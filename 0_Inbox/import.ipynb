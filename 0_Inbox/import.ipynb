{
 "cells": [
  {
   "cell_type": "markdown",
   "metadata": {},
   "source": [
    "    import pandas\n",
    "when using the func of pandas, you need to type **`pandas.func()`**.  \n",
    "* * *\n",
    "    import pandas as pd\n",
    "when using the func of pandas, you need to type **`pd.func()`**. (recommand)  \n",
    "* * *\n",
    "    from math import pi\n",
    "when using pi, just type **pi**.  \n",
    "* * *\n",
    "    from math import *\n",
    "you can use all the functions and attributes directly. (not recommand)\n",
    "* * *\n",
    "    import scipy.stats as stats\n",
    "import stats module of scipy only   \n",
    "when using the func of scipy.stats, you need to type **`stats.func`**"
   ]
  },
  {
   "cell_type": "code",
   "execution_count": null,
   "metadata": {
    "collapsed": true
   },
   "outputs": [],
   "source": []
  }
 ],
 "metadata": {
  "kernelspec": {
   "display_name": "Python 3",
   "language": "python",
   "name": "python3"
  },
  "language_info": {
   "codemirror_mode": {
    "name": "ipython",
    "version": 3
   },
   "file_extension": ".py",
   "mimetype": "text/x-python",
   "name": "python",
   "nbconvert_exporter": "python",
   "pygments_lexer": "ipython3",
   "version": "3.6.1"
  }
 },
 "nbformat": 4,
 "nbformat_minor": 2
}
