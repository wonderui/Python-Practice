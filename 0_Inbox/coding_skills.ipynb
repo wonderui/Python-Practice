{
 "cells": [
  {
   "cell_type": "markdown",
   "metadata": {},
   "source": [
    "### How to outline the problem?  \n",
    "  \n",
    "**understand**  \n",
    "get to know what exactly the problem is  \n",
    "\n",
    "**specify**  \n",
    "list the specs and attributes involved  \n",
    "\n",
    "**design**  \n",
    "write the code\n"
   ]
  },
  {
   "cell_type": "markdown",
   "metadata": {},
   "source": [
    "### 4 dimensions of code\n",
    "\n",
    "1. correctness - 正确率\n",
    "2. efficiency - 效率\n",
    "3. elegance - 优雅\n",
    "4. features - 功能"
   ]
  }
 ],
 "metadata": {
  "kernelspec": {
   "display_name": "Python 3",
   "language": "python",
   "name": "python3"
  },
  "language_info": {
   "codemirror_mode": {
    "name": "ipython",
    "version": 3
   },
   "file_extension": ".py",
   "mimetype": "text/x-python",
   "name": "python",
   "nbconvert_exporter": "python",
   "pygments_lexer": "ipython3",
   "version": "3.6.1"
  }
 },
 "nbformat": 4,
 "nbformat_minor": 2
}
