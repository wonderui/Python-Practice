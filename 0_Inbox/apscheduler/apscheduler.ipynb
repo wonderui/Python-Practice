{
 "cells": [
  {
   "cell_type": "code",
   "execution_count": 21,
   "metadata": {},
   "outputs": [
    {
     "name": "stdout",
     "output_type": "stream",
     "text": [
      "job executed!\n",
      "2018-02-03 22:43:12\n",
      "\n",
      "job executed!\n",
      "2018-02-03 22:43:22\n",
      "\n",
      "job executed!\n",
      "2018-02-03 22:43:32\n",
      "\n"
     ]
    }
   ],
   "source": [
    "import datetime\n",
    "import pandas as pd\n",
    "#from apscheduler.schedulers.blocking import BlockingScheduler\n",
    "from apscheduler.schedulers.background import BackgroundScheduler\n",
    "\n",
    "list_1 = []\n",
    "def test_1():\n",
    "    list_1.append(str(datetime.datetime.now())[0:19])\n",
    "    pd.Series(list_1).to_csv('apsched.csv')\n",
    "    print('job executed!')\n",
    "    print(str(datetime.datetime.now())[0:19] + '\\n')\n",
    "    \n",
    "#sched = BlockingScheduler()\n",
    "sched = BackgroundScheduler()\n",
    "sched.add_job(test_1, 'interval', seconds=10)\n",
    "sched.start()"
   ]
  },
  {
   "cell_type": "code",
   "execution_count": null,
   "metadata": {
    "collapsed": true
   },
   "outputs": [],
   "source": []
  },
  {
   "cell_type": "code",
   "execution_count": null,
   "metadata": {},
   "outputs": [],
   "source": []
  },
  {
   "cell_type": "code",
   "execution_count": null,
   "metadata": {},
   "outputs": [],
   "source": []
  },
  {
   "cell_type": "code",
   "execution_count": null,
   "metadata": {},
   "outputs": [],
   "source": []
  },
  {
   "cell_type": "code",
   "execution_count": null,
   "metadata": {},
   "outputs": [],
   "source": []
  },
  {
   "cell_type": "code",
   "execution_count": null,
   "metadata": {
    "collapsed": true
   },
   "outputs": [],
   "source": []
  }
 ],
 "metadata": {
  "kernelspec": {
   "display_name": "Python 3",
   "language": "python",
   "name": "python3"
  },
  "language_info": {
   "codemirror_mode": {
    "name": "ipython",
    "version": 3
   },
   "file_extension": ".py",
   "mimetype": "text/x-python",
   "name": "python",
   "nbconvert_exporter": "python",
   "pygments_lexer": "ipython3",
   "version": "3.6.1"
  }
 },
 "nbformat": 4,
 "nbformat_minor": 2
}
