{
 "cells": [
  {
   "cell_type": "code",
   "execution_count": 1,
   "metadata": {},
   "outputs": [
    {
     "data": {
      "text/plain": [
       "[1, 2, 1, 2, 5, 5]"
      ]
     },
     "execution_count": 1,
     "metadata": {},
     "output_type": "execute_result"
    }
   ],
   "source": [
    "def non_unique_elements(data):\n",
    "    '''\n",
    "    data is a list\n",
    "    remove the unique elements \n",
    "    return a list contain the non-unique elements\n",
    "    '''\n",
    "    data_copy = data[:]  # before iterate the list, duplicate the list\n",
    "    for i in data_copy:  # iterate the duplicated list\n",
    "        if data_copy.count(i) == 1:\n",
    "            data.remove(i)  # modify the original list\n",
    "    return data\n",
    "\n",
    "non_unique_elements([1, 2, 1, 3, 2, 5, 9, 0, 5, 7])"
   ]
  }
 ],
 "metadata": {
  "kernelspec": {
   "display_name": "Python 3",
   "language": "python",
   "name": "python3"
  },
  "language_info": {
   "codemirror_mode": {
    "name": "ipython",
    "version": 3
   },
   "file_extension": ".py",
   "mimetype": "text/x-python",
   "name": "python",
   "nbconvert_exporter": "python",
   "pygments_lexer": "ipython3",
   "version": "3.6.1"
  }
 },
 "nbformat": 4,
 "nbformat_minor": 2
}
