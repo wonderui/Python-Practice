{
 "cells": [
  {
   "cell_type": "code",
   "execution_count": 14,
   "metadata": {},
   "outputs": [
    {
     "name": "stdout",
     "output_type": "stream",
     "text": [
      "job executed!\n",
      "2017-10-03 22:13:58.006735\n",
      "job executed!job executed!\n",
      "2017-10-03 22:14:00.004458\n",
      "\n",
      "job executed!\n",
      "2017-10-03 22:14:02.006433\n",
      "job executed!\n",
      "2017-10-03 22:14:04.006191\n",
      "job executed!\n",
      "2017-10-03 22:14:06.007933\n",
      "job executed!\n",
      "2017-10-03 22:14:08.007550\n",
      "job executed!\n",
      "job executed!\n",
      "2017-10-03 22:14:10.003517\n",
      "job executed!\n",
      "2017-10-03 22:14:12.008098\n",
      "job executed!\n",
      "2017-10-03 22:14:14.005698\n",
      "job executed!\n",
      "2017-10-03 22:14:16.004112\n",
      "job executed!\n",
      "2017-10-03 22:14:18.004688\n",
      "job executed!job executed!\n",
      "\n",
      "2017-10-03 22:14:20.007294\n",
      "job executed!\n",
      "2017-10-03 22:14:22.004602\n",
      "job executed!\n",
      "2017-10-03 22:14:24.006448\n",
      "job executed!\n",
      "2017-10-03 22:14:26.004384\n",
      "job executed!\n",
      "2017-10-03 22:14:28.007386\n"
     ]
    }
   ],
   "source": [
    "import datetime\n",
    "from apscheduler.schedulers.background import BackgroundScheduler\n",
    "\n",
    "scheduler = BackgroundScheduler()\n",
    "\n",
    "@scheduler.scheduled_job('cron', second='*/2')\n",
    "def test_1():\n",
    "    print('job executed!')\n",
    "    print(datetime.datetime.now())\n",
    "\n",
    "scheduler.start()"
   ]
  },
  {
   "cell_type": "code",
   "execution_count": 15,
   "metadata": {},
   "outputs": [
    {
     "name": "stdout",
     "output_type": "stream",
     "text": [
      "job executed!\n",
      "job executed!\n"
     ]
    }
   ],
   "source": [
    "scheduler.shutdown()"
   ]
  },
  {
   "cell_type": "code",
   "execution_count": 13,
   "metadata": {},
   "outputs": [
    {
     "name": "stdout",
     "output_type": "stream",
     "text": [
      "Pending jobs:\n",
      "    No pending jobs\n",
      "job executed!\n"
     ]
    }
   ],
   "source": [
    "scheduler.print_jobs()"
   ]
  },
  {
   "cell_type": "code",
   "execution_count": null,
   "metadata": {
    "collapsed": true
   },
   "outputs": [],
   "source": []
  }
 ],
 "metadata": {
  "kernelspec": {
   "display_name": "Python 3",
   "language": "python",
   "name": "python3"
  },
  "language_info": {
   "codemirror_mode": {
    "name": "ipython",
    "version": 3
   },
   "file_extension": ".py",
   "mimetype": "text/x-python",
   "name": "python",
   "nbconvert_exporter": "python",
   "pygments_lexer": "ipython3",
   "version": "3.6.1"
  }
 },
 "nbformat": 4,
 "nbformat_minor": 2
}
