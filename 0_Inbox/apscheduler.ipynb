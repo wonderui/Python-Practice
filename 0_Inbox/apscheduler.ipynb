{
 "cells": [
  {
   "cell_type": "code",
   "execution_count": 6,
   "metadata": {
    "scrolled": true
   },
   "outputs": [
    {
     "name": "stdout",
     "output_type": "stream",
     "text": [
      "job executed!\n",
      "2018-02-01 18:04:18.014962\n",
      "job executed!\n",
      "2018-02-01 18:04:20.013013\n",
      "job executed!\n",
      "2018-02-01 18:04:22.005231\n",
      "job executed!\n",
      "2018-02-01 18:04:24.008486\n",
      "job executed!\n",
      "2018-02-01 18:04:26.002160\n",
      "job executed!\n",
      "2018-02-01 18:04:28.005044\n",
      "job executed!\n",
      "2018-02-01 18:04:30.005733\n",
      "job executed!\n",
      "2018-02-01 18:04:32.005847\n",
      "job executed!\n",
      "2018-02-01 18:04:34.009287\n",
      "job executed!\n",
      "2018-02-01 18:04:36.007194\n",
      "job executed!\n",
      "2018-02-01 18:04:38.004466\n",
      "job executed!\n",
      "2018-02-01 18:04:40.004128\n",
      "job executed!\n",
      "2018-02-01 18:04:42.002476\n",
      "job executed!\n",
      "2018-02-01 18:04:44.002513\n",
      "job executed!\n",
      "2018-02-01 18:04:46.005957\n",
      "job executed!\n",
      "2018-02-01 18:04:48.003913\n",
      "job executed!\n",
      "2018-02-01 18:04:50.004523\n",
      "job executed!\n",
      "2018-02-01 18:04:52.003894\n",
      "job executed!\n",
      "2018-02-01 18:04:54.003583\n",
      "job executed!\n",
      "2018-02-01 18:04:56.004103\n",
      "job executed!\n",
      "2018-02-01 18:04:58.005182\n",
      "job executed!\n",
      "2018-02-01 18:05:00.004962\n",
      "job executed!\n",
      "2018-02-01 18:05:02.004468\n",
      "job executed!\n",
      "2018-02-01 18:05:04.005108\n",
      "job executed!\n",
      "2018-02-01 18:05:06.003605\n",
      "job executed!\n",
      "2018-02-01 18:05:08.003493\n",
      "job executed!\n",
      "2018-02-01 18:05:10.005533\n",
      "job executed!\n",
      "2018-02-01 18:05:12.005970\n",
      "job executed!\n",
      "2018-02-01 18:05:14.001829\n",
      "job executed!\n",
      "2018-02-01 18:05:16.006694\n",
      "job executed!\n",
      "2018-02-01 18:05:18.003873\n",
      "job executed!\n",
      "2018-02-01 18:05:20.005927\n",
      "job executed!\n",
      "2018-02-01 18:05:22.003571\n",
      "job executed!\n",
      "2018-02-01 18:05:24.001872\n",
      "job executed!\n",
      "2018-02-01 18:05:26.005831\n",
      "job executed!\n",
      "2018-02-01 18:05:28.004574\n",
      "job executed!\n",
      "2018-02-01 18:05:30.001796\n",
      "job executed!\n",
      "2018-02-01 18:05:32.003722\n",
      "job executed!\n",
      "2018-02-01 18:05:34.005518\n",
      "job executed!\n",
      "2018-02-01 18:05:36.003521\n",
      "job executed!\n",
      "2018-02-01 18:05:38.005354\n",
      "job executed!\n",
      "2018-02-01 18:05:40.007787\n",
      "job executed!\n",
      "2018-02-01 18:05:42.006716\n",
      "job executed!\n",
      "2018-02-01 18:05:44.006656\n",
      "job executed!\n",
      "2018-02-01 18:05:46.005632\n",
      "job executed!\n",
      "2018-02-01 18:05:48.005990\n",
      "job executed!\n",
      "2018-02-01 18:05:50.004954\n",
      "job executed!\n",
      "2018-02-01 18:05:52.004989\n",
      "job executed!\n",
      "2018-02-01 18:05:54.004850\n",
      "job executed!\n",
      "2018-02-01 18:05:56.005429\n",
      "job executed!\n",
      "2018-02-01 18:05:58.005651\n",
      "job executed!\n",
      "2018-02-01 18:06:00.005604\n",
      "job executed!\n",
      "2018-02-01 18:06:02.004965\n",
      "job executed!\n",
      "2018-02-01 18:06:04.004509\n",
      "job executed!\n",
      "2018-02-01 18:06:06.005223\n",
      "job executed!\n",
      "2018-02-01 18:06:08.004137\n",
      "job executed!\n",
      "2018-02-01 18:06:10.004067\n",
      "job executed!\n",
      "2018-02-01 18:06:12.004145\n",
      "job executed!\n",
      "2018-02-01 18:06:14.006704\n",
      "job executed!\n",
      "2018-02-01 18:06:16.007436\n",
      "job executed!\n",
      "2018-02-01 18:06:18.004547\n"
     ]
    }
   ],
   "source": [
    "import datetime\n",
    "from apscheduler.schedulers.background import BackgroundScheduler\n",
    "\n",
    "scheduler = BackgroundScheduler()\n",
    "\n",
    "@scheduler.scheduled_job('cron', second='*/2')\n",
    "def test_1():\n",
    "    print('job executed!')\n",
    "    print(datetime.datetime.now())\n",
    "\n",
    "scheduler.start()"
   ]
  },
  {
   "cell_type": "code",
   "execution_count": 20,
   "metadata": {
    "scrolled": true
   },
   "outputs": [
    {
     "ename": "NameError",
     "evalue": "name 'job' is not defined",
     "output_type": "error",
     "traceback": [
      "\u001b[0;31m---------------------------------------------------------------------------\u001b[0m",
      "\u001b[0;31mNameError\u001b[0m                                 Traceback (most recent call last)",
      "\u001b[0;32m<ipython-input-20-68d977791bbd>\u001b[0m in \u001b[0;36m<module>\u001b[0;34m()\u001b[0m\n\u001b[0;32m----> 1\u001b[0;31m \u001b[0mjob\u001b[0m\u001b[0;34m.\u001b[0m\u001b[0mtest_1\u001b[0m\u001b[0;34m.\u001b[0m\u001b[0mpause\u001b[0m\u001b[0;34m(\u001b[0m\u001b[0;34m)\u001b[0m\u001b[0;34m\u001b[0m\u001b[0m\n\u001b[0m",
      "\u001b[0;31mNameError\u001b[0m: name 'job' is not defined"
     ]
    }
   ],
   "source": [
    "job.test_1.pause()"
   ]
  },
  {
   "cell_type": "code",
   "execution_count": 16,
   "metadata": {},
   "outputs": [
    {
     "name": "stdout",
     "output_type": "stream",
     "text": [
      "Jobstore default:\n",
      "    test_1 (trigger: cron[second='*/2'], next run at: 2018-02-01 18:12:32 CST)\n"
     ]
    }
   ],
   "source": [
    "scheduler.print_jobs()"
   ]
  },
  {
   "cell_type": "code",
   "execution_count": null,
   "metadata": {
    "collapsed": true
   },
   "outputs": [],
   "source": []
  },
  {
   "cell_type": "code",
   "execution_count": null,
   "metadata": {
    "collapsed": true
   },
   "outputs": [],
   "source": []
  },
  {
   "cell_type": "code",
   "execution_count": 5,
   "metadata": {
    "collapsed": true
   },
   "outputs": [],
   "source": [
    "import datetime\n",
    "from apscheduler.schedulers.blocking import BlockingScheduler"
   ]
  },
  {
   "cell_type": "code",
   "execution_count": 2,
   "metadata": {
    "collapsed": true
   },
   "outputs": [],
   "source": [
    "def my_job():\n",
    "    print('job executed!')"
   ]
  },
  {
   "cell_type": "code",
   "execution_count": null,
   "metadata": {},
   "outputs": [],
   "source": [
    "sched = BlockingScheduler()\n",
    "sched.add_job(my_job, 'interval', seconds=5)\n",
    "sched.start()"
   ]
  },
  {
   "cell_type": "code",
   "execution_count": null,
   "metadata": {
    "collapsed": true
   },
   "outputs": [],
   "source": []
  },
  {
   "cell_type": "code",
   "execution_count": null,
   "metadata": {
    "collapsed": true
   },
   "outputs": [],
   "source": []
  }
 ],
 "metadata": {
  "kernelspec": {
   "display_name": "Python 3",
   "language": "python",
   "name": "python3"
  },
  "language_info": {
   "codemirror_mode": {
    "name": "ipython",
    "version": 3
   },
   "file_extension": ".py",
   "mimetype": "text/x-python",
   "name": "python",
   "nbconvert_exporter": "python",
   "pygments_lexer": "ipython3",
   "version": "3.6.1"
  }
 },
 "nbformat": 4,
 "nbformat_minor": 2
}
