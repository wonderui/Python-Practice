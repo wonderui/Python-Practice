{
 "cells": [
  {
   "cell_type": "code",
   "execution_count": 4,
   "metadata": {},
   "outputs": [
    {
     "name": "stdout",
     "output_type": "stream",
     "text": [
      "[2, 3]\n",
      "[2, 3, 5]\n",
      "[2, 3, 5, 7]\n",
      "[2, 3, 5, 7, 11]\n",
      "[2, 3, 5, 7, 11, 13]\n",
      "[2, 3, 5, 7, 11, 13, 17]\n",
      "[2, 3, 5, 7, 11, 13, 17, 19]\n",
      "[2, 3, 5, 7, 11, 13, 17, 19, 23]\n",
      "[2, 3, 5, 7, 11, 13, 17, 19, 23, 29]\n"
     ]
    }
   ],
   "source": [
    "def prime_num(n):\n",
    "    ans = [2]\n",
    "    for i in range(3, n+1):\n",
    "        j = ans[0]\n",
    "        for j in ans:\n",
    "            if i % j != 0:\n",
    "                pass\n",
    "            else:\n",
    "                break\n",
    "        if j == ans[-1]:\n",
    "            ans.append(i)\n",
    "            print(ans)\n",
    "            i += 1\n",
    "\n",
    "prime_num(30)\n"
   ]
  },
  {
   "cell_type": "code",
   "execution_count": 6,
   "metadata": {},
   "outputs": [
    {
     "data": {
      "text/plain": [
       "2"
      ]
     },
     "execution_count": 6,
     "metadata": {},
     "output_type": "execute_result"
    }
   ],
   "source": [
    "def genPrimes():\n",
    "    '''\n",
    "    generator version of prime number\n",
    "    '''\n",
    "    ans = [2]\n",
    "    i = 3\n",
    "    while True:\n",
    "        j = ans[0]\n",
    "        for j in ans:\n",
    "            if i % j != 0:\n",
    "                pass\n",
    "            else:\n",
    "                break\n",
    "        if j == ans[-1]:\n",
    "            yield ans[-1]\n",
    "            ans.append(i)\n",
    "        i += 1\n",
    "\n",
    "test = genPrimes()\n",
    "test.__next__()\n"
   ]
  }
 ],
 "metadata": {
  "kernelspec": {
   "display_name": "Python 3",
   "language": "python",
   "name": "python3"
  },
  "language_info": {
   "codemirror_mode": {
    "name": "ipython",
    "version": 3
   },
   "file_extension": ".py",
   "mimetype": "text/x-python",
   "name": "python",
   "nbconvert_exporter": "python",
   "pygments_lexer": "ipython3",
   "version": "3.6.1"
  }
 },
 "nbformat": 4,
 "nbformat_minor": 2
}
