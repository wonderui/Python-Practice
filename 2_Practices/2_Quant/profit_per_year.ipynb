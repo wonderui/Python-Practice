{
 "cells": [
  {
   "cell_type": "code",
   "execution_count": 8,
   "metadata": {},
   "outputs": [
    {
     "name": "stdout",
     "output_type": "stream",
     "text": [
      "Enter the sumCapital: 66300.33\n",
      "Enter the sumRevenue: 4585.47\n",
      "I have invested for: 18.7 months.\n",
      "I invest 3300.26 YUAN per month.\n",
      "Now I have 66300.33 YUAN in total.\n",
      "Now I have gained 4585.47 YUAN in total.\n",
      "So far, the profit per year is 9.04%.\n",
      "sql commit done!\n"
     ]
    }
   ],
   "source": [
    "#!/usr/bin/python\n",
    "# -*- coding: utf-8 -*-\n",
    "# 使用这个计算方法可以计算从来不赎回的基金定投收益率\n",
    "# 调仓的情况是可以使用的，但是要保证调完之后再计算，且调仓的持续时间不要太长\n",
    "\n",
    "from datetime import date\n",
    "import pymysql\n",
    "from password import quant_pwd\n",
    "pwd = quant_pwd.password\n",
    "\n",
    "# 计算每月投资金额的方法\n",
    "def capitalPerMonth(sumCapital, months, sumRevenue):\n",
    "    return (sumCapital - sumRevenue) / months\n",
    "\n",
    "sc = float(input('Enter the sumCapital: '))\n",
    "sr = float(input('Enter the sumRevenue: '))\n",
    "\n",
    "# 计算投资月数\n",
    "today = date.today()\n",
    "startDate = date(2016, 6, 13)\n",
    "time_to_startDate = abs(today - startDate)\n",
    "months_to_startDate = round(time_to_startDate.days/30.42, 2)\n",
    "\n",
    "cpm = round(capitalPerMonth(sc, months_to_startDate, sr), 2)\n",
    "\n",
    "print('I have invested for:', months_to_startDate, 'months.')\n",
    "print('I invest', cpm, 'YUAN per month.')\n",
    "print('Now I have', sc, 'YUAN in total.')\n",
    "print('Now I have gained', sr, 'YUAN in total.')\n",
    "\n",
    "# 使用 guess & check 的方法计算月化收益率\n",
    "p = 0.0\n",
    "L = 0.0\n",
    "\n",
    "while L < sc/cpm:\n",
    "    L = 0.0\n",
    "    for i in range(0, int(months_to_startDate)):\n",
    "        L += p ** (months_to_startDate - i)\n",
    "    L += (months_to_startDate - int(months_to_startDate)) * (p ** (months_to_startDate - int(months_to_startDate)))\n",
    "    p += 0.00001\n",
    "\n",
    "# 计算年化收益率并打印\n",
    "profitPY = round(p ** 12 - 1, 4)\n",
    "print('So far, the profit per year is ' + str(profitPY*100) + '%.')\n",
    "\n",
    "\n",
    "# -------------sql-------------\n",
    "\n",
    "db = pymysql.connect('118.190.202.87', 'root', pwd, 'quant')\n",
    "cursor = db.cursor()\n",
    "\n",
    "sql = \"\"\"insert into fund_return(date, months, total_fund, total_return, return_rate) \n",
    "values('%s', '%f', '%f', '%f', '%f')\"\"\" % (today, months_to_startDate, sc, sr, profitPY)\n",
    "\n",
    "try:\n",
    "    cursor.execute(sql)\n",
    "    db.commit()\n",
    "    print('sql commit done!')\n",
    "except:\n",
    "    db.rollback()\n",
    "    print('sth went wrong with sql commit!')\n",
    "    \n",
    "db.close()\n"
   ]
  },
  {
   "cell_type": "code",
   "execution_count": null,
   "metadata": {
    "collapsed": true
   },
   "outputs": [],
   "source": []
  },
  {
   "cell_type": "code",
   "execution_count": null,
   "metadata": {},
   "outputs": [],
   "source": []
  },
  {
   "cell_type": "code",
   "execution_count": null,
   "metadata": {
    "collapsed": true
   },
   "outputs": [],
   "source": []
  }
 ],
 "metadata": {
  "kernelspec": {
   "display_name": "Python 3",
   "language": "python",
   "name": "python3"
  },
  "language_info": {
   "codemirror_mode": {
    "name": "ipython",
    "version": 3
   },
   "file_extension": ".py",
   "mimetype": "text/x-python",
   "name": "python",
   "nbconvert_exporter": "python",
   "pygments_lexer": "ipython3",
   "version": "3.6.1"
  }
 },
 "nbformat": 4,
 "nbformat_minor": 2
}
