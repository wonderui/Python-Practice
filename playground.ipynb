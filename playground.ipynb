{
 "cells": [
  {
   "cell_type": "code",
   "execution_count": 444,
   "metadata": {},
   "outputs": [],
   "source": [
    "s = 'abcabcbb'"
   ]
  },
  {
   "cell_type": "code",
   "execution_count": 445,
   "metadata": {},
   "outputs": [
    {
     "data": {
      "text/plain": [
       "8"
      ]
     },
     "execution_count": 445,
     "metadata": {},
     "output_type": "execute_result"
    }
   ],
   "source": [
    "len_s = len(s)\n",
    "len_s"
   ]
  },
  {
   "cell_type": "code",
   "execution_count": 446,
   "metadata": {},
   "outputs": [
    {
     "name": "stdout",
     "output_type": "stream",
     "text": [
      "7 0\n",
      "abcabcbb\n",
      "6 0\n",
      "abcabcb\n",
      "6 1\n",
      "bcabcbb\n",
      "5 0\n",
      "abcabc\n",
      "5 1\n",
      "bcabcb\n",
      "5 2\n",
      "cabcbb\n",
      "4 0\n",
      "abcab\n",
      "4 1\n",
      "bcabc\n",
      "4 2\n",
      "cabcb\n",
      "4 3\n",
      "abcbb\n",
      "3 0\n",
      "abca\n",
      "3 1\n",
      "bcab\n",
      "3 2\n",
      "cabc\n",
      "3 3\n",
      "abcb\n",
      "3 4\n",
      "bcbb\n",
      "2 0\n",
      "abc\n",
      "3\n",
      "2 1\n",
      "bca\n",
      "3\n",
      "2 2\n",
      "cab\n",
      "3\n",
      "2 3\n",
      "abc\n",
      "3\n",
      "2 4\n",
      "bcb\n",
      "2 5\n",
      "cbb\n",
      "1 0\n",
      "ab\n",
      "2\n",
      "1 1\n",
      "bc\n",
      "2\n",
      "1 2\n",
      "ca\n",
      "2\n",
      "1 3\n",
      "ab\n",
      "2\n",
      "1 4\n",
      "bc\n",
      "2\n",
      "1 5\n",
      "cb\n",
      "2\n",
      "1 6\n",
      "bb\n",
      "1\n"
     ]
    }
   ],
   "source": [
    "len_s = len(s)\n",
    "len_try = [len_s-l for l in range(len_s)]\n",
    "if len_s == 0:\n",
    "    print('0')\n",
    "else:\n",
    "    for j in len_try:\n",
    "        for i in range(len_s-j):\n",
    "            print(j, i)\n",
    "            sub_s = s[i:i+j+1]\n",
    "            print(sub_s)\n",
    "            if len(sub_s) == len(set(sub_s)):\n",
    "                print(j+1)\n",
    "            else:\n",
    "                pass\n",
    "    print(1)"
   ]
  },
  {
   "cell_type": "code",
   "execution_count": null,
   "metadata": {},
   "outputs": [],
   "source": []
  },
  {
   "cell_type": "code",
   "execution_count": null,
   "metadata": {},
   "outputs": [],
   "source": []
  },
  {
   "cell_type": "code",
   "execution_count": null,
   "metadata": {
    "collapsed": true
   },
   "outputs": [],
   "source": []
  }
 ],
 "metadata": {
  "kernelspec": {
   "display_name": "Python 3",
   "language": "python",
   "name": "python3"
  },
  "language_info": {
   "codemirror_mode": {
    "name": "ipython",
    "version": 3
   },
   "file_extension": ".py",
   "mimetype": "text/x-python",
   "name": "python",
   "nbconvert_exporter": "python",
   "pygments_lexer": "ipython3",
   "version": "3.6.1"
  }
 },
 "nbformat": 4,
 "nbformat_minor": 2
}
