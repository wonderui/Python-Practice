{
 "cells": [
  {
   "cell_type": "code",
   "execution_count": 139,
   "metadata": {
    "collapsed": true
   },
   "outputs": [],
   "source": [
    "import time"
   ]
  },
  {
   "cell_type": "code",
   "execution_count": 193,
   "metadata": {},
   "outputs": [],
   "source": [
    "def solve_problem(height):\n",
    "    len_s = len(height)\n",
    "    h_m = max(height)\n",
    "    s_dict = list(enumerate(height))\n",
    "    r = min([i[0] for i in s_dict if i[1] == h_m])\n",
    "    print(len_s, h_m, r)\n",
    "    n = 0\n",
    "    res = []\n",
    "    for i in range(r):\n",
    "        if s_dict[i+1][1] > r - i - 1:\n",
    "            wide = r - i - 1\n",
    "            j_list = [i[0] for i in s_dict[i:] if i[1] > wide]\n",
    "            print(i, len(j_list))\n",
    "            print('------------')\n",
    "            for j in j_list:\n",
    "                res.append(abs(s_dict[i][0] - s_dict[j][0]) * min([s_dict[i][1],s_dict[j][1]]))\n",
    "                n += 1\n",
    "        else:\n",
    "            pass\n",
    "    print(n)\n",
    "    return max(res)"
   ]
  },
  {
   "cell_type": "code",
   "execution_count": 195,
   "metadata": {},
   "outputs": [
    {
     "name": "stdout",
     "output_type": "stream",
     "text": [
      "9 8 1\n",
      "0 9\n",
      "------------\n",
      "9\n",
      "0.0\n"
     ]
    },
    {
     "data": {
      "text/plain": [
       "8"
      ]
     },
     "execution_count": 195,
     "metadata": {},
     "output_type": "execute_result"
    }
   ],
   "source": [
    "start_time = time.time()\n",
    "res = solve_problem([1,8,6,2,5,4,8,3,7])\n",
    "elapsed_time = round((time.time() - start_time), 2)\n",
    "print(elapsed_time)\n",
    "res"
   ]
  },
  {
   "cell_type": "code",
   "execution_count": null,
   "metadata": {},
   "outputs": [],
   "source": []
  },
  {
   "cell_type": "code",
   "execution_count": null,
   "metadata": {},
   "outputs": [],
   "source": []
  },
  {
   "cell_type": "code",
   "execution_count": null,
   "metadata": {
    "collapsed": true
   },
   "outputs": [],
   "source": []
  }
 ],
 "metadata": {
  "kernelspec": {
   "display_name": "Python 3",
   "language": "python",
   "name": "python3"
  },
  "language_info": {
   "codemirror_mode": {
    "name": "ipython",
    "version": 3
   },
   "file_extension": ".py",
   "mimetype": "text/x-python",
   "name": "python",
   "nbconvert_exporter": "python",
   "pygments_lexer": "ipython3",
   "version": "3.6.1"
  }
 },
 "nbformat": 4,
 "nbformat_minor": 2
}
