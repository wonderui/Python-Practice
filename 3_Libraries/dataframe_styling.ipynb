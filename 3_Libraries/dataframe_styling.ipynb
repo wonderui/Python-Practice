{
 "cells": [
  {
   "cell_type": "code",
   "execution_count": 123,
   "metadata": {
    "collapsed": true
   },
   "outputs": [],
   "source": [
    "import numpy as np\n",
    "import pandas as pd\n",
    "\n",
    "from email.mime.text import MIMEText\n",
    "import smtplib\n",
    "\n",
    "from sqlalchemy import create_engine\n",
    "\n",
    "from password import quant_pwd\n",
    "pwd = quant_pwd.password\n",
    "mail_pwd = quant_pwd.mail_password"
   ]
  },
  {
   "cell_type": "code",
   "execution_count": 124,
   "metadata": {
    "collapsed": true
   },
   "outputs": [],
   "source": [
    "np.random.seed(24)\n",
    "df = pd.DataFrame({'A': np.linspace(1, 10, 10)})\n",
    "df = pd.concat([df, pd.DataFrame(np.random.randn(10, 4), columns=list('BCDE'))],\n",
    "               axis=1)"
   ]
  },
  {
   "cell_type": "code",
   "execution_count": null,
   "metadata": {
    "collapsed": true
   },
   "outputs": [],
   "source": []
  },
  {
   "cell_type": "code",
   "execution_count": null,
   "metadata": {},
   "outputs": [],
   "source": []
  },
  {
   "cell_type": "code",
   "execution_count": null,
   "metadata": {},
   "outputs": [],
   "source": []
  },
  {
   "cell_type": "code",
   "execution_count": null,
   "metadata": {},
   "outputs": [],
   "source": []
  },
  {
   "cell_type": "code",
   "execution_count": null,
   "metadata": {
    "collapsed": true
   },
   "outputs": [],
   "source": []
  },
  {
   "cell_type": "code",
   "execution_count": 125,
   "metadata": {},
   "outputs": [
    {
     "data": {
      "text/html": [
       "<div>\n",
       "<style scoped>\n",
       "    .dataframe tbody tr th:only-of-type {\n",
       "        vertical-align: middle;\n",
       "    }\n",
       "\n",
       "    .dataframe tbody tr th {\n",
       "        vertical-align: top;\n",
       "    }\n",
       "\n",
       "    .dataframe thead th {\n",
       "        text-align: right;\n",
       "    }\n",
       "</style>\n",
       "<table border=\"1\" class=\"dataframe\">\n",
       "  <thead>\n",
       "    <tr style=\"text-align: right;\">\n",
       "      <th></th>\n",
       "      <th>A</th>\n",
       "      <th>B</th>\n",
       "      <th>C</th>\n",
       "      <th>D</th>\n",
       "      <th>E</th>\n",
       "    </tr>\n",
       "  </thead>\n",
       "  <tbody>\n",
       "    <tr>\n",
       "      <th>0</th>\n",
       "      <td>1.0</td>\n",
       "      <td>1.329212</td>\n",
       "      <td>-0.770033</td>\n",
       "      <td>-0.316280</td>\n",
       "      <td>-0.990810</td>\n",
       "    </tr>\n",
       "    <tr>\n",
       "      <th>1</th>\n",
       "      <td>2.0</td>\n",
       "      <td>-1.070816</td>\n",
       "      <td>-1.438713</td>\n",
       "      <td>0.564417</td>\n",
       "      <td>0.295722</td>\n",
       "    </tr>\n",
       "    <tr>\n",
       "      <th>2</th>\n",
       "      <td>3.0</td>\n",
       "      <td>-1.626404</td>\n",
       "      <td>0.219565</td>\n",
       "      <td>0.678805</td>\n",
       "      <td>1.889273</td>\n",
       "    </tr>\n",
       "    <tr>\n",
       "      <th>3</th>\n",
       "      <td>4.0</td>\n",
       "      <td>0.961538</td>\n",
       "      <td>0.104011</td>\n",
       "      <td>-0.481165</td>\n",
       "      <td>0.850229</td>\n",
       "    </tr>\n",
       "    <tr>\n",
       "      <th>4</th>\n",
       "      <td>5.0</td>\n",
       "      <td>1.453425</td>\n",
       "      <td>1.057737</td>\n",
       "      <td>0.165562</td>\n",
       "      <td>0.515018</td>\n",
       "    </tr>\n",
       "    <tr>\n",
       "      <th>5</th>\n",
       "      <td>6.0</td>\n",
       "      <td>-1.336936</td>\n",
       "      <td>0.562861</td>\n",
       "      <td>1.392855</td>\n",
       "      <td>-0.063328</td>\n",
       "    </tr>\n",
       "    <tr>\n",
       "      <th>6</th>\n",
       "      <td>7.0</td>\n",
       "      <td>0.121668</td>\n",
       "      <td>1.207603</td>\n",
       "      <td>-0.002040</td>\n",
       "      <td>1.627796</td>\n",
       "    </tr>\n",
       "    <tr>\n",
       "      <th>7</th>\n",
       "      <td>8.0</td>\n",
       "      <td>0.354493</td>\n",
       "      <td>1.037528</td>\n",
       "      <td>-0.385684</td>\n",
       "      <td>0.519818</td>\n",
       "    </tr>\n",
       "    <tr>\n",
       "      <th>8</th>\n",
       "      <td>9.0</td>\n",
       "      <td>1.686583</td>\n",
       "      <td>-1.325963</td>\n",
       "      <td>1.428984</td>\n",
       "      <td>-2.089354</td>\n",
       "    </tr>\n",
       "    <tr>\n",
       "      <th>9</th>\n",
       "      <td>10.0</td>\n",
       "      <td>-0.129820</td>\n",
       "      <td>0.631523</td>\n",
       "      <td>-0.586538</td>\n",
       "      <td>0.290720</td>\n",
       "    </tr>\n",
       "  </tbody>\n",
       "</table>\n",
       "</div>"
      ],
      "text/plain": [
       "      A         B         C         D         E\n",
       "0   1.0  1.329212 -0.770033 -0.316280 -0.990810\n",
       "1   2.0 -1.070816 -1.438713  0.564417  0.295722\n",
       "2   3.0 -1.626404  0.219565  0.678805  1.889273\n",
       "3   4.0  0.961538  0.104011 -0.481165  0.850229\n",
       "4   5.0  1.453425  1.057737  0.165562  0.515018\n",
       "5   6.0 -1.336936  0.562861  1.392855 -0.063328\n",
       "6   7.0  0.121668  1.207603 -0.002040  1.627796\n",
       "7   8.0  0.354493  1.037528 -0.385684  0.519818\n",
       "8   9.0  1.686583 -1.325963  1.428984 -2.089354\n",
       "9  10.0 -0.129820  0.631523 -0.586538  0.290720"
      ]
     },
     "execution_count": 125,
     "metadata": {},
     "output_type": "execute_result"
    }
   ],
   "source": [
    "df"
   ]
  },
  {
   "cell_type": "code",
   "execution_count": null,
   "metadata": {},
   "outputs": [],
   "source": []
  },
  {
   "cell_type": "code",
   "execution_count": null,
   "metadata": {
    "collapsed": true
   },
   "outputs": [],
   "source": []
  },
  {
   "cell_type": "code",
   "execution_count": null,
   "metadata": {
    "collapsed": true
   },
   "outputs": [],
   "source": [
    "# 负值变红"
   ]
  },
  {
   "cell_type": "code",
   "execution_count": 27,
   "metadata": {
    "collapsed": true
   },
   "outputs": [],
   "source": [
    "def color_negative_red(val):\n",
    "    \"\"\"\n",
    "    Takes a scalar and returns a string with\n",
    "    the css property `'color: red'` for negative\n",
    "    strings, black otherwise.\n",
    "    \"\"\"\n",
    "    color = 'red' if val < 0 else 'black'\n",
    "    return 'color: %s' % color"
   ]
  },
  {
   "cell_type": "code",
   "execution_count": 134,
   "metadata": {},
   "outputs": [
    {
     "data": {
      "text/html": [
       "<style  type=\"text/css\" >\n",
       "    #T_e8ae3114_22c5_11e9_a90a_acbc329129edrow0_col0 {\n",
       "            color:  black;\n",
       "        }    #T_e8ae3114_22c5_11e9_a90a_acbc329129edrow0_col1 {\n",
       "            color:  black;\n",
       "        }    #T_e8ae3114_22c5_11e9_a90a_acbc329129edrow0_col2 {\n",
       "            color:  red;\n",
       "        }    #T_e8ae3114_22c5_11e9_a90a_acbc329129edrow0_col3 {\n",
       "            color:  red;\n",
       "        }    #T_e8ae3114_22c5_11e9_a90a_acbc329129edrow0_col4 {\n",
       "            color:  red;\n",
       "        }    #T_e8ae3114_22c5_11e9_a90a_acbc329129edrow1_col0 {\n",
       "            color:  black;\n",
       "        }    #T_e8ae3114_22c5_11e9_a90a_acbc329129edrow1_col1 {\n",
       "            color:  red;\n",
       "        }    #T_e8ae3114_22c5_11e9_a90a_acbc329129edrow1_col2 {\n",
       "            color:  red;\n",
       "        }    #T_e8ae3114_22c5_11e9_a90a_acbc329129edrow1_col3 {\n",
       "            color:  black;\n",
       "        }    #T_e8ae3114_22c5_11e9_a90a_acbc329129edrow1_col4 {\n",
       "            color:  black;\n",
       "        }    #T_e8ae3114_22c5_11e9_a90a_acbc329129edrow2_col0 {\n",
       "            color:  black;\n",
       "        }    #T_e8ae3114_22c5_11e9_a90a_acbc329129edrow2_col1 {\n",
       "            color:  red;\n",
       "        }    #T_e8ae3114_22c5_11e9_a90a_acbc329129edrow2_col2 {\n",
       "            color:  black;\n",
       "        }    #T_e8ae3114_22c5_11e9_a90a_acbc329129edrow2_col3 {\n",
       "            color:  black;\n",
       "        }    #T_e8ae3114_22c5_11e9_a90a_acbc329129edrow2_col4 {\n",
       "            color:  black;\n",
       "        }    #T_e8ae3114_22c5_11e9_a90a_acbc329129edrow3_col0 {\n",
       "            color:  black;\n",
       "        }    #T_e8ae3114_22c5_11e9_a90a_acbc329129edrow3_col1 {\n",
       "            color:  black;\n",
       "        }    #T_e8ae3114_22c5_11e9_a90a_acbc329129edrow3_col2 {\n",
       "            color:  black;\n",
       "        }    #T_e8ae3114_22c5_11e9_a90a_acbc329129edrow3_col3 {\n",
       "            color:  red;\n",
       "        }    #T_e8ae3114_22c5_11e9_a90a_acbc329129edrow3_col4 {\n",
       "            color:  black;\n",
       "        }    #T_e8ae3114_22c5_11e9_a90a_acbc329129edrow4_col0 {\n",
       "            color:  black;\n",
       "        }    #T_e8ae3114_22c5_11e9_a90a_acbc329129edrow4_col1 {\n",
       "            color:  black;\n",
       "        }    #T_e8ae3114_22c5_11e9_a90a_acbc329129edrow4_col2 {\n",
       "            color:  black;\n",
       "        }    #T_e8ae3114_22c5_11e9_a90a_acbc329129edrow4_col3 {\n",
       "            color:  black;\n",
       "        }    #T_e8ae3114_22c5_11e9_a90a_acbc329129edrow4_col4 {\n",
       "            color:  black;\n",
       "        }    #T_e8ae3114_22c5_11e9_a90a_acbc329129edrow5_col0 {\n",
       "            color:  black;\n",
       "        }    #T_e8ae3114_22c5_11e9_a90a_acbc329129edrow5_col1 {\n",
       "            color:  red;\n",
       "        }    #T_e8ae3114_22c5_11e9_a90a_acbc329129edrow5_col2 {\n",
       "            color:  black;\n",
       "        }    #T_e8ae3114_22c5_11e9_a90a_acbc329129edrow5_col3 {\n",
       "            color:  black;\n",
       "        }    #T_e8ae3114_22c5_11e9_a90a_acbc329129edrow5_col4 {\n",
       "            color:  red;\n",
       "        }    #T_e8ae3114_22c5_11e9_a90a_acbc329129edrow6_col0 {\n",
       "            color:  black;\n",
       "        }    #T_e8ae3114_22c5_11e9_a90a_acbc329129edrow6_col1 {\n",
       "            color:  black;\n",
       "        }    #T_e8ae3114_22c5_11e9_a90a_acbc329129edrow6_col2 {\n",
       "            color:  black;\n",
       "        }    #T_e8ae3114_22c5_11e9_a90a_acbc329129edrow6_col3 {\n",
       "            color:  red;\n",
       "        }    #T_e8ae3114_22c5_11e9_a90a_acbc329129edrow6_col4 {\n",
       "            color:  black;\n",
       "        }    #T_e8ae3114_22c5_11e9_a90a_acbc329129edrow7_col0 {\n",
       "            color:  black;\n",
       "        }    #T_e8ae3114_22c5_11e9_a90a_acbc329129edrow7_col1 {\n",
       "            color:  black;\n",
       "        }    #T_e8ae3114_22c5_11e9_a90a_acbc329129edrow7_col2 {\n",
       "            color:  black;\n",
       "        }    #T_e8ae3114_22c5_11e9_a90a_acbc329129edrow7_col3 {\n",
       "            color:  red;\n",
       "        }    #T_e8ae3114_22c5_11e9_a90a_acbc329129edrow7_col4 {\n",
       "            color:  black;\n",
       "        }    #T_e8ae3114_22c5_11e9_a90a_acbc329129edrow8_col0 {\n",
       "            color:  black;\n",
       "        }    #T_e8ae3114_22c5_11e9_a90a_acbc329129edrow8_col1 {\n",
       "            color:  black;\n",
       "        }    #T_e8ae3114_22c5_11e9_a90a_acbc329129edrow8_col2 {\n",
       "            color:  red;\n",
       "        }    #T_e8ae3114_22c5_11e9_a90a_acbc329129edrow8_col3 {\n",
       "            color:  black;\n",
       "        }    #T_e8ae3114_22c5_11e9_a90a_acbc329129edrow8_col4 {\n",
       "            color:  red;\n",
       "        }    #T_e8ae3114_22c5_11e9_a90a_acbc329129edrow9_col0 {\n",
       "            color:  black;\n",
       "        }    #T_e8ae3114_22c5_11e9_a90a_acbc329129edrow9_col1 {\n",
       "            color:  red;\n",
       "        }    #T_e8ae3114_22c5_11e9_a90a_acbc329129edrow9_col2 {\n",
       "            color:  black;\n",
       "        }    #T_e8ae3114_22c5_11e9_a90a_acbc329129edrow9_col3 {\n",
       "            color:  red;\n",
       "        }    #T_e8ae3114_22c5_11e9_a90a_acbc329129edrow9_col4 {\n",
       "            color:  black;\n",
       "        }</style>  \n",
       "<table id=\"T_e8ae3114_22c5_11e9_a90a_acbc329129ed\" > \n",
       "<thead>    <tr> \n",
       "        <th class=\"blank level0\" ></th> \n",
       "        <th class=\"col_heading level0 col0\" >A</th> \n",
       "        <th class=\"col_heading level0 col1\" >B</th> \n",
       "        <th class=\"col_heading level0 col2\" >C</th> \n",
       "        <th class=\"col_heading level0 col3\" >D</th> \n",
       "        <th class=\"col_heading level0 col4\" >E</th> \n",
       "    </tr></thead> \n",
       "<tbody>    <tr> \n",
       "        <th id=\"T_e8ae3114_22c5_11e9_a90a_acbc329129edlevel0_row0\" class=\"row_heading level0 row0\" >0</th> \n",
       "        <td id=\"T_e8ae3114_22c5_11e9_a90a_acbc329129edrow0_col0\" class=\"data row0 col0\" >1</td> \n",
       "        <td id=\"T_e8ae3114_22c5_11e9_a90a_acbc329129edrow0_col1\" class=\"data row0 col1\" >1.32921</td> \n",
       "        <td id=\"T_e8ae3114_22c5_11e9_a90a_acbc329129edrow0_col2\" class=\"data row0 col2\" >-0.770033</td> \n",
       "        <td id=\"T_e8ae3114_22c5_11e9_a90a_acbc329129edrow0_col3\" class=\"data row0 col3\" >-0.31628</td> \n",
       "        <td id=\"T_e8ae3114_22c5_11e9_a90a_acbc329129edrow0_col4\" class=\"data row0 col4\" >-0.99081</td> \n",
       "    </tr>    <tr> \n",
       "        <th id=\"T_e8ae3114_22c5_11e9_a90a_acbc329129edlevel0_row1\" class=\"row_heading level0 row1\" >1</th> \n",
       "        <td id=\"T_e8ae3114_22c5_11e9_a90a_acbc329129edrow1_col0\" class=\"data row1 col0\" >2</td> \n",
       "        <td id=\"T_e8ae3114_22c5_11e9_a90a_acbc329129edrow1_col1\" class=\"data row1 col1\" >-1.07082</td> \n",
       "        <td id=\"T_e8ae3114_22c5_11e9_a90a_acbc329129edrow1_col2\" class=\"data row1 col2\" >-1.43871</td> \n",
       "        <td id=\"T_e8ae3114_22c5_11e9_a90a_acbc329129edrow1_col3\" class=\"data row1 col3\" >0.564417</td> \n",
       "        <td id=\"T_e8ae3114_22c5_11e9_a90a_acbc329129edrow1_col4\" class=\"data row1 col4\" >0.295722</td> \n",
       "    </tr>    <tr> \n",
       "        <th id=\"T_e8ae3114_22c5_11e9_a90a_acbc329129edlevel0_row2\" class=\"row_heading level0 row2\" >2</th> \n",
       "        <td id=\"T_e8ae3114_22c5_11e9_a90a_acbc329129edrow2_col0\" class=\"data row2 col0\" >3</td> \n",
       "        <td id=\"T_e8ae3114_22c5_11e9_a90a_acbc329129edrow2_col1\" class=\"data row2 col1\" >-1.6264</td> \n",
       "        <td id=\"T_e8ae3114_22c5_11e9_a90a_acbc329129edrow2_col2\" class=\"data row2 col2\" >0.219565</td> \n",
       "        <td id=\"T_e8ae3114_22c5_11e9_a90a_acbc329129edrow2_col3\" class=\"data row2 col3\" >0.678805</td> \n",
       "        <td id=\"T_e8ae3114_22c5_11e9_a90a_acbc329129edrow2_col4\" class=\"data row2 col4\" >1.88927</td> \n",
       "    </tr>    <tr> \n",
       "        <th id=\"T_e8ae3114_22c5_11e9_a90a_acbc329129edlevel0_row3\" class=\"row_heading level0 row3\" >3</th> \n",
       "        <td id=\"T_e8ae3114_22c5_11e9_a90a_acbc329129edrow3_col0\" class=\"data row3 col0\" >4</td> \n",
       "        <td id=\"T_e8ae3114_22c5_11e9_a90a_acbc329129edrow3_col1\" class=\"data row3 col1\" >0.961538</td> \n",
       "        <td id=\"T_e8ae3114_22c5_11e9_a90a_acbc329129edrow3_col2\" class=\"data row3 col2\" >0.104011</td> \n",
       "        <td id=\"T_e8ae3114_22c5_11e9_a90a_acbc329129edrow3_col3\" class=\"data row3 col3\" >-0.481165</td> \n",
       "        <td id=\"T_e8ae3114_22c5_11e9_a90a_acbc329129edrow3_col4\" class=\"data row3 col4\" >0.850229</td> \n",
       "    </tr>    <tr> \n",
       "        <th id=\"T_e8ae3114_22c5_11e9_a90a_acbc329129edlevel0_row4\" class=\"row_heading level0 row4\" >4</th> \n",
       "        <td id=\"T_e8ae3114_22c5_11e9_a90a_acbc329129edrow4_col0\" class=\"data row4 col0\" >5</td> \n",
       "        <td id=\"T_e8ae3114_22c5_11e9_a90a_acbc329129edrow4_col1\" class=\"data row4 col1\" >1.45342</td> \n",
       "        <td id=\"T_e8ae3114_22c5_11e9_a90a_acbc329129edrow4_col2\" class=\"data row4 col2\" >1.05774</td> \n",
       "        <td id=\"T_e8ae3114_22c5_11e9_a90a_acbc329129edrow4_col3\" class=\"data row4 col3\" >0.165562</td> \n",
       "        <td id=\"T_e8ae3114_22c5_11e9_a90a_acbc329129edrow4_col4\" class=\"data row4 col4\" >0.515018</td> \n",
       "    </tr>    <tr> \n",
       "        <th id=\"T_e8ae3114_22c5_11e9_a90a_acbc329129edlevel0_row5\" class=\"row_heading level0 row5\" >5</th> \n",
       "        <td id=\"T_e8ae3114_22c5_11e9_a90a_acbc329129edrow5_col0\" class=\"data row5 col0\" >6</td> \n",
       "        <td id=\"T_e8ae3114_22c5_11e9_a90a_acbc329129edrow5_col1\" class=\"data row5 col1\" >-1.33694</td> \n",
       "        <td id=\"T_e8ae3114_22c5_11e9_a90a_acbc329129edrow5_col2\" class=\"data row5 col2\" >0.562861</td> \n",
       "        <td id=\"T_e8ae3114_22c5_11e9_a90a_acbc329129edrow5_col3\" class=\"data row5 col3\" >1.39285</td> \n",
       "        <td id=\"T_e8ae3114_22c5_11e9_a90a_acbc329129edrow5_col4\" class=\"data row5 col4\" >-0.063328</td> \n",
       "    </tr>    <tr> \n",
       "        <th id=\"T_e8ae3114_22c5_11e9_a90a_acbc329129edlevel0_row6\" class=\"row_heading level0 row6\" >6</th> \n",
       "        <td id=\"T_e8ae3114_22c5_11e9_a90a_acbc329129edrow6_col0\" class=\"data row6 col0\" >7</td> \n",
       "        <td id=\"T_e8ae3114_22c5_11e9_a90a_acbc329129edrow6_col1\" class=\"data row6 col1\" >0.121668</td> \n",
       "        <td id=\"T_e8ae3114_22c5_11e9_a90a_acbc329129edrow6_col2\" class=\"data row6 col2\" >1.2076</td> \n",
       "        <td id=\"T_e8ae3114_22c5_11e9_a90a_acbc329129edrow6_col3\" class=\"data row6 col3\" >-0.00204021</td> \n",
       "        <td id=\"T_e8ae3114_22c5_11e9_a90a_acbc329129edrow6_col4\" class=\"data row6 col4\" >1.6278</td> \n",
       "    </tr>    <tr> \n",
       "        <th id=\"T_e8ae3114_22c5_11e9_a90a_acbc329129edlevel0_row7\" class=\"row_heading level0 row7\" >7</th> \n",
       "        <td id=\"T_e8ae3114_22c5_11e9_a90a_acbc329129edrow7_col0\" class=\"data row7 col0\" >8</td> \n",
       "        <td id=\"T_e8ae3114_22c5_11e9_a90a_acbc329129edrow7_col1\" class=\"data row7 col1\" >0.354493</td> \n",
       "        <td id=\"T_e8ae3114_22c5_11e9_a90a_acbc329129edrow7_col2\" class=\"data row7 col2\" >1.03753</td> \n",
       "        <td id=\"T_e8ae3114_22c5_11e9_a90a_acbc329129edrow7_col3\" class=\"data row7 col3\" >-0.385684</td> \n",
       "        <td id=\"T_e8ae3114_22c5_11e9_a90a_acbc329129edrow7_col4\" class=\"data row7 col4\" >0.519818</td> \n",
       "    </tr>    <tr> \n",
       "        <th id=\"T_e8ae3114_22c5_11e9_a90a_acbc329129edlevel0_row8\" class=\"row_heading level0 row8\" >8</th> \n",
       "        <td id=\"T_e8ae3114_22c5_11e9_a90a_acbc329129edrow8_col0\" class=\"data row8 col0\" >9</td> \n",
       "        <td id=\"T_e8ae3114_22c5_11e9_a90a_acbc329129edrow8_col1\" class=\"data row8 col1\" >1.68658</td> \n",
       "        <td id=\"T_e8ae3114_22c5_11e9_a90a_acbc329129edrow8_col2\" class=\"data row8 col2\" >-1.32596</td> \n",
       "        <td id=\"T_e8ae3114_22c5_11e9_a90a_acbc329129edrow8_col3\" class=\"data row8 col3\" >1.42898</td> \n",
       "        <td id=\"T_e8ae3114_22c5_11e9_a90a_acbc329129edrow8_col4\" class=\"data row8 col4\" >-2.08935</td> \n",
       "    </tr>    <tr> \n",
       "        <th id=\"T_e8ae3114_22c5_11e9_a90a_acbc329129edlevel0_row9\" class=\"row_heading level0 row9\" >9</th> \n",
       "        <td id=\"T_e8ae3114_22c5_11e9_a90a_acbc329129edrow9_col0\" class=\"data row9 col0\" >10</td> \n",
       "        <td id=\"T_e8ae3114_22c5_11e9_a90a_acbc329129edrow9_col1\" class=\"data row9 col1\" >-0.12982</td> \n",
       "        <td id=\"T_e8ae3114_22c5_11e9_a90a_acbc329129edrow9_col2\" class=\"data row9 col2\" >0.631523</td> \n",
       "        <td id=\"T_e8ae3114_22c5_11e9_a90a_acbc329129edrow9_col3\" class=\"data row9 col3\" >-0.586538</td> \n",
       "        <td id=\"T_e8ae3114_22c5_11e9_a90a_acbc329129edrow9_col4\" class=\"data row9 col4\" >0.29072</td> \n",
       "    </tr></tbody> \n",
       "</table> "
      ],
      "text/plain": [
       "<pandas.io.formats.style.Styler at 0x112879630>"
      ]
     },
     "execution_count": 134,
     "metadata": {},
     "output_type": "execute_result"
    }
   ],
   "source": [
    "s = df.style.applymap(color_negative_red)\n",
    "s"
   ]
  },
  {
   "cell_type": "code",
   "execution_count": null,
   "metadata": {
    "collapsed": true
   },
   "outputs": [],
   "source": []
  },
  {
   "cell_type": "code",
   "execution_count": null,
   "metadata": {
    "collapsed": true
   },
   "outputs": [],
   "source": []
  },
  {
   "cell_type": "code",
   "execution_count": null,
   "metadata": {
    "collapsed": true
   },
   "outputs": [],
   "source": [
    "# 高亮max"
   ]
  },
  {
   "cell_type": "code",
   "execution_count": 29,
   "metadata": {
    "collapsed": true
   },
   "outputs": [],
   "source": [
    "def highlight_max(s):\n",
    "    '''\n",
    "    highlight the maximum in a Series yellow.\n",
    "    '''\n",
    "    is_max = s == s.max()\n",
    "    return ['background-color: yellow' if v else '' for v in is_max]"
   ]
  },
  {
   "cell_type": "code",
   "execution_count": 48,
   "metadata": {},
   "outputs": [
    {
     "data": {
      "text/html": [
       "<style  type=\"text/css\" >\n",
       "    #T_7eae2012_204f_11e9_84e6_acbc329129edrow0_col0 {\n",
       "            : ;\n",
       "            border-color:  black;\n",
       "            border-width:  10px;\n",
       "        }    #T_7eae2012_204f_11e9_84e6_acbc329129edrow0_col1 {\n",
       "            : ;\n",
       "            border-color:  black;\n",
       "            border-width:  10px;\n",
       "        }    #T_7eae2012_204f_11e9_84e6_acbc329129edrow0_col2 {\n",
       "            : ;\n",
       "            border-color:  black;\n",
       "            border-width:  10px;\n",
       "        }    #T_7eae2012_204f_11e9_84e6_acbc329129edrow0_col3 {\n",
       "            : ;\n",
       "            border-color:  black;\n",
       "            border-width:  10px;\n",
       "        }    #T_7eae2012_204f_11e9_84e6_acbc329129edrow0_col4 {\n",
       "            : ;\n",
       "            border-color:  black;\n",
       "            border-width:  10px;\n",
       "        }    #T_7eae2012_204f_11e9_84e6_acbc329129edrow1_col0 {\n",
       "            : ;\n",
       "            border-color:  black;\n",
       "            border-width:  10px;\n",
       "        }    #T_7eae2012_204f_11e9_84e6_acbc329129edrow1_col1 {\n",
       "            : ;\n",
       "            border-color:  black;\n",
       "            border-width:  10px;\n",
       "        }    #T_7eae2012_204f_11e9_84e6_acbc329129edrow1_col2 {\n",
       "            : ;\n",
       "            border-color:  black;\n",
       "            border-width:  10px;\n",
       "        }    #T_7eae2012_204f_11e9_84e6_acbc329129edrow1_col3 {\n",
       "            : ;\n",
       "            border-color:  black;\n",
       "            border-width:  10px;\n",
       "        }    #T_7eae2012_204f_11e9_84e6_acbc329129edrow1_col4 {\n",
       "            : ;\n",
       "            border-color:  black;\n",
       "            border-width:  10px;\n",
       "        }    #T_7eae2012_204f_11e9_84e6_acbc329129edrow2_col0 {\n",
       "            : ;\n",
       "            border-color:  black;\n",
       "            border-width:  10px;\n",
       "        }    #T_7eae2012_204f_11e9_84e6_acbc329129edrow2_col1 {\n",
       "            : ;\n",
       "            border-color:  black;\n",
       "            border-width:  10px;\n",
       "        }    #T_7eae2012_204f_11e9_84e6_acbc329129edrow2_col2 {\n",
       "            : ;\n",
       "            border-color:  black;\n",
       "            border-width:  10px;\n",
       "        }    #T_7eae2012_204f_11e9_84e6_acbc329129edrow2_col3 {\n",
       "            : ;\n",
       "            border-color:  black;\n",
       "            border-width:  10px;\n",
       "        }    #T_7eae2012_204f_11e9_84e6_acbc329129edrow2_col4 {\n",
       "            background-color:  yellow;\n",
       "            border-color:  black;\n",
       "            border-width:  10px;\n",
       "        }    #T_7eae2012_204f_11e9_84e6_acbc329129edrow3_col0 {\n",
       "            : ;\n",
       "            border-color:  black;\n",
       "            border-width:  10px;\n",
       "        }    #T_7eae2012_204f_11e9_84e6_acbc329129edrow3_col1 {\n",
       "            : ;\n",
       "            border-color:  black;\n",
       "            border-width:  10px;\n",
       "        }    #T_7eae2012_204f_11e9_84e6_acbc329129edrow3_col2 {\n",
       "            : ;\n",
       "            border-color:  black;\n",
       "            border-width:  10px;\n",
       "        }    #T_7eae2012_204f_11e9_84e6_acbc329129edrow3_col3 {\n",
       "            : ;\n",
       "            border-color:  black;\n",
       "            border-width:  10px;\n",
       "        }    #T_7eae2012_204f_11e9_84e6_acbc329129edrow3_col4 {\n",
       "            : ;\n",
       "            border-color:  black;\n",
       "            border-width:  10px;\n",
       "        }    #T_7eae2012_204f_11e9_84e6_acbc329129edrow4_col0 {\n",
       "            : ;\n",
       "            border-color:  black;\n",
       "            border-width:  10px;\n",
       "        }    #T_7eae2012_204f_11e9_84e6_acbc329129edrow4_col1 {\n",
       "            : ;\n",
       "            border-color:  black;\n",
       "            border-width:  10px;\n",
       "        }    #T_7eae2012_204f_11e9_84e6_acbc329129edrow4_col2 {\n",
       "            : ;\n",
       "            border-color:  black;\n",
       "            border-width:  10px;\n",
       "        }    #T_7eae2012_204f_11e9_84e6_acbc329129edrow4_col3 {\n",
       "            : ;\n",
       "            border-color:  black;\n",
       "            border-width:  10px;\n",
       "        }    #T_7eae2012_204f_11e9_84e6_acbc329129edrow4_col4 {\n",
       "            : ;\n",
       "            border-color:  black;\n",
       "            border-width:  10px;\n",
       "        }    #T_7eae2012_204f_11e9_84e6_acbc329129edrow5_col0 {\n",
       "            : ;\n",
       "            border-color:  black;\n",
       "            border-width:  10px;\n",
       "        }    #T_7eae2012_204f_11e9_84e6_acbc329129edrow5_col1 {\n",
       "            : ;\n",
       "            border-color:  black;\n",
       "            border-width:  10px;\n",
       "        }    #T_7eae2012_204f_11e9_84e6_acbc329129edrow5_col2 {\n",
       "            : ;\n",
       "            border-color:  black;\n",
       "            border-width:  10px;\n",
       "        }    #T_7eae2012_204f_11e9_84e6_acbc329129edrow5_col3 {\n",
       "            : ;\n",
       "            border-color:  black;\n",
       "            border-width:  10px;\n",
       "        }    #T_7eae2012_204f_11e9_84e6_acbc329129edrow5_col4 {\n",
       "            : ;\n",
       "            border-color:  black;\n",
       "            border-width:  10px;\n",
       "        }    #T_7eae2012_204f_11e9_84e6_acbc329129edrow6_col0 {\n",
       "            : ;\n",
       "            border-color:  black;\n",
       "            border-width:  10px;\n",
       "        }    #T_7eae2012_204f_11e9_84e6_acbc329129edrow6_col1 {\n",
       "            : ;\n",
       "            border-color:  black;\n",
       "            border-width:  10px;\n",
       "        }    #T_7eae2012_204f_11e9_84e6_acbc329129edrow6_col2 {\n",
       "            background-color:  yellow;\n",
       "            border-color:  black;\n",
       "            border-width:  10px;\n",
       "        }    #T_7eae2012_204f_11e9_84e6_acbc329129edrow6_col3 {\n",
       "            : ;\n",
       "            border-color:  black;\n",
       "            border-width:  10px;\n",
       "        }    #T_7eae2012_204f_11e9_84e6_acbc329129edrow6_col4 {\n",
       "            : ;\n",
       "            border-color:  black;\n",
       "            border-width:  10px;\n",
       "        }    #T_7eae2012_204f_11e9_84e6_acbc329129edrow7_col0 {\n",
       "            : ;\n",
       "            border-color:  black;\n",
       "            border-width:  10px;\n",
       "        }    #T_7eae2012_204f_11e9_84e6_acbc329129edrow7_col1 {\n",
       "            : ;\n",
       "            border-color:  black;\n",
       "            border-width:  10px;\n",
       "        }    #T_7eae2012_204f_11e9_84e6_acbc329129edrow7_col2 {\n",
       "            : ;\n",
       "            border-color:  black;\n",
       "            border-width:  10px;\n",
       "        }    #T_7eae2012_204f_11e9_84e6_acbc329129edrow7_col3 {\n",
       "            : ;\n",
       "            border-color:  black;\n",
       "            border-width:  10px;\n",
       "        }    #T_7eae2012_204f_11e9_84e6_acbc329129edrow7_col4 {\n",
       "            : ;\n",
       "            border-color:  black;\n",
       "            border-width:  10px;\n",
       "        }    #T_7eae2012_204f_11e9_84e6_acbc329129edrow8_col0 {\n",
       "            : ;\n",
       "            border-color:  black;\n",
       "            border-width:  10px;\n",
       "        }    #T_7eae2012_204f_11e9_84e6_acbc329129edrow8_col1 {\n",
       "            background-color:  yellow;\n",
       "            border-color:  black;\n",
       "            border-width:  10px;\n",
       "        }    #T_7eae2012_204f_11e9_84e6_acbc329129edrow8_col2 {\n",
       "            : ;\n",
       "            border-color:  black;\n",
       "            border-width:  10px;\n",
       "        }    #T_7eae2012_204f_11e9_84e6_acbc329129edrow8_col3 {\n",
       "            background-color:  yellow;\n",
       "            border-color:  black;\n",
       "            border-width:  10px;\n",
       "        }    #T_7eae2012_204f_11e9_84e6_acbc329129edrow8_col4 {\n",
       "            : ;\n",
       "            border-color:  black;\n",
       "            border-width:  10px;\n",
       "        }    #T_7eae2012_204f_11e9_84e6_acbc329129edrow9_col0 {\n",
       "            background-color:  yellow;\n",
       "            border-color:  black;\n",
       "            border-width:  10px;\n",
       "        }    #T_7eae2012_204f_11e9_84e6_acbc329129edrow9_col1 {\n",
       "            : ;\n",
       "            border-color:  black;\n",
       "            border-width:  10px;\n",
       "        }    #T_7eae2012_204f_11e9_84e6_acbc329129edrow9_col2 {\n",
       "            : ;\n",
       "            border-color:  black;\n",
       "            border-width:  10px;\n",
       "        }    #T_7eae2012_204f_11e9_84e6_acbc329129edrow9_col3 {\n",
       "            : ;\n",
       "            border-color:  black;\n",
       "            border-width:  10px;\n",
       "        }    #T_7eae2012_204f_11e9_84e6_acbc329129edrow9_col4 {\n",
       "            : ;\n",
       "            border-color:  black;\n",
       "            border-width:  10px;\n",
       "        }</style>  \n",
       "<table id=\"T_7eae2012_204f_11e9_84e6_acbc329129ed\" > \n",
       "<thead>    <tr> \n",
       "        <th class=\"blank level0\" ></th> \n",
       "        <th class=\"col_heading level0 col0\" >A</th> \n",
       "        <th class=\"col_heading level0 col1\" >B</th> \n",
       "        <th class=\"col_heading level0 col2\" >C</th> \n",
       "        <th class=\"col_heading level0 col3\" >D</th> \n",
       "        <th class=\"col_heading level0 col4\" >E</th> \n",
       "    </tr></thead> \n",
       "<tbody>    <tr> \n",
       "        <th id=\"T_7eae2012_204f_11e9_84e6_acbc329129edlevel0_row0\" class=\"row_heading level0 row0\" >0</th> \n",
       "        <td id=\"T_7eae2012_204f_11e9_84e6_acbc329129edrow0_col0\" class=\"data row0 col0\" >1</td> \n",
       "        <td id=\"T_7eae2012_204f_11e9_84e6_acbc329129edrow0_col1\" class=\"data row0 col1\" >1.32921</td> \n",
       "        <td id=\"T_7eae2012_204f_11e9_84e6_acbc329129edrow0_col2\" class=\"data row0 col2\" >-0.770033</td> \n",
       "        <td id=\"T_7eae2012_204f_11e9_84e6_acbc329129edrow0_col3\" class=\"data row0 col3\" >-0.31628</td> \n",
       "        <td id=\"T_7eae2012_204f_11e9_84e6_acbc329129edrow0_col4\" class=\"data row0 col4\" >-0.99081</td> \n",
       "    </tr>    <tr> \n",
       "        <th id=\"T_7eae2012_204f_11e9_84e6_acbc329129edlevel0_row1\" class=\"row_heading level0 row1\" >1</th> \n",
       "        <td id=\"T_7eae2012_204f_11e9_84e6_acbc329129edrow1_col0\" class=\"data row1 col0\" >2</td> \n",
       "        <td id=\"T_7eae2012_204f_11e9_84e6_acbc329129edrow1_col1\" class=\"data row1 col1\" >-1.07082</td> \n",
       "        <td id=\"T_7eae2012_204f_11e9_84e6_acbc329129edrow1_col2\" class=\"data row1 col2\" >-1.43871</td> \n",
       "        <td id=\"T_7eae2012_204f_11e9_84e6_acbc329129edrow1_col3\" class=\"data row1 col3\" >0.564417</td> \n",
       "        <td id=\"T_7eae2012_204f_11e9_84e6_acbc329129edrow1_col4\" class=\"data row1 col4\" >0.295722</td> \n",
       "    </tr>    <tr> \n",
       "        <th id=\"T_7eae2012_204f_11e9_84e6_acbc329129edlevel0_row2\" class=\"row_heading level0 row2\" >2</th> \n",
       "        <td id=\"T_7eae2012_204f_11e9_84e6_acbc329129edrow2_col0\" class=\"data row2 col0\" >3</td> \n",
       "        <td id=\"T_7eae2012_204f_11e9_84e6_acbc329129edrow2_col1\" class=\"data row2 col1\" >-1.6264</td> \n",
       "        <td id=\"T_7eae2012_204f_11e9_84e6_acbc329129edrow2_col2\" class=\"data row2 col2\" >0.219565</td> \n",
       "        <td id=\"T_7eae2012_204f_11e9_84e6_acbc329129edrow2_col3\" class=\"data row2 col3\" >0.678805</td> \n",
       "        <td id=\"T_7eae2012_204f_11e9_84e6_acbc329129edrow2_col4\" class=\"data row2 col4\" >1.88927</td> \n",
       "    </tr>    <tr> \n",
       "        <th id=\"T_7eae2012_204f_11e9_84e6_acbc329129edlevel0_row3\" class=\"row_heading level0 row3\" >3</th> \n",
       "        <td id=\"T_7eae2012_204f_11e9_84e6_acbc329129edrow3_col0\" class=\"data row3 col0\" >4</td> \n",
       "        <td id=\"T_7eae2012_204f_11e9_84e6_acbc329129edrow3_col1\" class=\"data row3 col1\" >0.961538</td> \n",
       "        <td id=\"T_7eae2012_204f_11e9_84e6_acbc329129edrow3_col2\" class=\"data row3 col2\" >0.104011</td> \n",
       "        <td id=\"T_7eae2012_204f_11e9_84e6_acbc329129edrow3_col3\" class=\"data row3 col3\" >-0.481165</td> \n",
       "        <td id=\"T_7eae2012_204f_11e9_84e6_acbc329129edrow3_col4\" class=\"data row3 col4\" >0.850229</td> \n",
       "    </tr>    <tr> \n",
       "        <th id=\"T_7eae2012_204f_11e9_84e6_acbc329129edlevel0_row4\" class=\"row_heading level0 row4\" >4</th> \n",
       "        <td id=\"T_7eae2012_204f_11e9_84e6_acbc329129edrow4_col0\" class=\"data row4 col0\" >5</td> \n",
       "        <td id=\"T_7eae2012_204f_11e9_84e6_acbc329129edrow4_col1\" class=\"data row4 col1\" >1.45342</td> \n",
       "        <td id=\"T_7eae2012_204f_11e9_84e6_acbc329129edrow4_col2\" class=\"data row4 col2\" >1.05774</td> \n",
       "        <td id=\"T_7eae2012_204f_11e9_84e6_acbc329129edrow4_col3\" class=\"data row4 col3\" >0.165562</td> \n",
       "        <td id=\"T_7eae2012_204f_11e9_84e6_acbc329129edrow4_col4\" class=\"data row4 col4\" >0.515018</td> \n",
       "    </tr>    <tr> \n",
       "        <th id=\"T_7eae2012_204f_11e9_84e6_acbc329129edlevel0_row5\" class=\"row_heading level0 row5\" >5</th> \n",
       "        <td id=\"T_7eae2012_204f_11e9_84e6_acbc329129edrow5_col0\" class=\"data row5 col0\" >6</td> \n",
       "        <td id=\"T_7eae2012_204f_11e9_84e6_acbc329129edrow5_col1\" class=\"data row5 col1\" >-1.33694</td> \n",
       "        <td id=\"T_7eae2012_204f_11e9_84e6_acbc329129edrow5_col2\" class=\"data row5 col2\" >0.562861</td> \n",
       "        <td id=\"T_7eae2012_204f_11e9_84e6_acbc329129edrow5_col3\" class=\"data row5 col3\" >1.39285</td> \n",
       "        <td id=\"T_7eae2012_204f_11e9_84e6_acbc329129edrow5_col4\" class=\"data row5 col4\" >-0.063328</td> \n",
       "    </tr>    <tr> \n",
       "        <th id=\"T_7eae2012_204f_11e9_84e6_acbc329129edlevel0_row6\" class=\"row_heading level0 row6\" >6</th> \n",
       "        <td id=\"T_7eae2012_204f_11e9_84e6_acbc329129edrow6_col0\" class=\"data row6 col0\" >7</td> \n",
       "        <td id=\"T_7eae2012_204f_11e9_84e6_acbc329129edrow6_col1\" class=\"data row6 col1\" >0.121668</td> \n",
       "        <td id=\"T_7eae2012_204f_11e9_84e6_acbc329129edrow6_col2\" class=\"data row6 col2\" >1.2076</td> \n",
       "        <td id=\"T_7eae2012_204f_11e9_84e6_acbc329129edrow6_col3\" class=\"data row6 col3\" >-0.00204021</td> \n",
       "        <td id=\"T_7eae2012_204f_11e9_84e6_acbc329129edrow6_col4\" class=\"data row6 col4\" >1.6278</td> \n",
       "    </tr>    <tr> \n",
       "        <th id=\"T_7eae2012_204f_11e9_84e6_acbc329129edlevel0_row7\" class=\"row_heading level0 row7\" >7</th> \n",
       "        <td id=\"T_7eae2012_204f_11e9_84e6_acbc329129edrow7_col0\" class=\"data row7 col0\" >8</td> \n",
       "        <td id=\"T_7eae2012_204f_11e9_84e6_acbc329129edrow7_col1\" class=\"data row7 col1\" >0.354493</td> \n",
       "        <td id=\"T_7eae2012_204f_11e9_84e6_acbc329129edrow7_col2\" class=\"data row7 col2\" >1.03753</td> \n",
       "        <td id=\"T_7eae2012_204f_11e9_84e6_acbc329129edrow7_col3\" class=\"data row7 col3\" >-0.385684</td> \n",
       "        <td id=\"T_7eae2012_204f_11e9_84e6_acbc329129edrow7_col4\" class=\"data row7 col4\" >0.519818</td> \n",
       "    </tr>    <tr> \n",
       "        <th id=\"T_7eae2012_204f_11e9_84e6_acbc329129edlevel0_row8\" class=\"row_heading level0 row8\" >8</th> \n",
       "        <td id=\"T_7eae2012_204f_11e9_84e6_acbc329129edrow8_col0\" class=\"data row8 col0\" >9</td> \n",
       "        <td id=\"T_7eae2012_204f_11e9_84e6_acbc329129edrow8_col1\" class=\"data row8 col1\" >1.68658</td> \n",
       "        <td id=\"T_7eae2012_204f_11e9_84e6_acbc329129edrow8_col2\" class=\"data row8 col2\" >-1.32596</td> \n",
       "        <td id=\"T_7eae2012_204f_11e9_84e6_acbc329129edrow8_col3\" class=\"data row8 col3\" >1.42898</td> \n",
       "        <td id=\"T_7eae2012_204f_11e9_84e6_acbc329129edrow8_col4\" class=\"data row8 col4\" >-2.08935</td> \n",
       "    </tr>    <tr> \n",
       "        <th id=\"T_7eae2012_204f_11e9_84e6_acbc329129edlevel0_row9\" class=\"row_heading level0 row9\" >9</th> \n",
       "        <td id=\"T_7eae2012_204f_11e9_84e6_acbc329129edrow9_col0\" class=\"data row9 col0\" >10</td> \n",
       "        <td id=\"T_7eae2012_204f_11e9_84e6_acbc329129edrow9_col1\" class=\"data row9 col1\" >-0.12982</td> \n",
       "        <td id=\"T_7eae2012_204f_11e9_84e6_acbc329129edrow9_col2\" class=\"data row9 col2\" >0.631523</td> \n",
       "        <td id=\"T_7eae2012_204f_11e9_84e6_acbc329129edrow9_col3\" class=\"data row9 col3\" >-0.586538</td> \n",
       "        <td id=\"T_7eae2012_204f_11e9_84e6_acbc329129edrow9_col4\" class=\"data row9 col4\" >0.29072</td> \n",
       "    </tr></tbody> \n",
       "</table> "
      ],
      "text/plain": [
       "<pandas.io.formats.style.Styler at 0x11270d400>"
      ]
     },
     "execution_count": 48,
     "metadata": {},
     "output_type": "execute_result"
    }
   ],
   "source": [
    "df.style.apply(highlight_max).set_properties(**{'border-color': 'black', 'border-width': '10px'})"
   ]
  },
  {
   "cell_type": "markdown",
   "metadata": {},
   "source": [
    "* Styler.applymap(func) **for elementwise styles**\n",
    "* Styler.apply(func, axis=0) **for columnwise styles**\n",
    "* Styler.apply(func, axis=1) **for rowwise styles**\n",
    "* Styler.apply(func, axis=None) **for tablewise styles**"
   ]
  },
  {
   "cell_type": "code",
   "execution_count": null,
   "metadata": {},
   "outputs": [],
   "source": []
  },
  {
   "cell_type": "code",
   "execution_count": null,
   "metadata": {
    "collapsed": true
   },
   "outputs": [],
   "source": []
  },
  {
   "cell_type": "code",
   "execution_count": null,
   "metadata": {
    "collapsed": true
   },
   "outputs": [],
   "source": []
  },
  {
   "cell_type": "code",
   "execution_count": null,
   "metadata": {
    "collapsed": true
   },
   "outputs": [],
   "source": []
  },
  {
   "cell_type": "code",
   "execution_count": null,
   "metadata": {
    "collapsed": true
   },
   "outputs": [],
   "source": [
    "# 应用css格式"
   ]
  },
  {
   "cell_type": "code",
   "execution_count": 135,
   "metadata": {},
   "outputs": [],
   "source": [
    "css_style = \\\n",
    "'<style>' +\\\n",
    "'table {border-collapse: collapse;}' +\\\n",
    "'td, th {border: 1px solid #ddd; padding: 8px;}' +\\\n",
    "'tr:nth-child(even){background-color: #f2f2f2;}' +\\\n",
    "'th {background-color: #4CAF50;color: white;}' +\\\n",
    "'</style>'\n"
   ]
  },
  {
   "cell_type": "code",
   "execution_count": 136,
   "metadata": {},
   "outputs": [
    {
     "data": {
      "text/plain": [
       "'<style>table {border-collapse: collapse;}td, th {border: 1px solid #ddd; padding: 8px;}tr:nth-child(even){background-color: #f2f2f2;}th {background-color: #4CAF50;color: white;}</style>'"
      ]
     },
     "execution_count": 136,
     "metadata": {},
     "output_type": "execute_result"
    }
   ],
   "source": [
    "css_style"
   ]
  },
  {
   "cell_type": "code",
   "execution_count": null,
   "metadata": {
    "collapsed": true
   },
   "outputs": [],
   "source": []
  },
  {
   "cell_type": "code",
   "execution_count": null,
   "metadata": {
    "collapsed": true
   },
   "outputs": [],
   "source": []
  },
  {
   "cell_type": "code",
   "execution_count": null,
   "metadata": {
    "collapsed": true
   },
   "outputs": [],
   "source": []
  },
  {
   "cell_type": "code",
   "execution_count": null,
   "metadata": {
    "collapsed": true
   },
   "outputs": [],
   "source": []
  },
  {
   "cell_type": "code",
   "execution_count": null,
   "metadata": {
    "collapsed": true
   },
   "outputs": [],
   "source": [
    "# df渲染html"
   ]
  },
  {
   "cell_type": "code",
   "execution_count": 133,
   "metadata": {
    "collapsed": true
   },
   "outputs": [],
   "source": [
    "test_mail = df.style\\\n",
    ".apply(highlight_max)\\\n",
    ".render()"
   ]
  },
  {
   "cell_type": "code",
   "execution_count": null,
   "metadata": {
    "collapsed": true
   },
   "outputs": [],
   "source": []
  },
  {
   "cell_type": "code",
   "execution_count": null,
   "metadata": {
    "collapsed": true
   },
   "outputs": [],
   "source": []
  },
  {
   "cell_type": "code",
   "execution_count": null,
   "metadata": {
    "collapsed": true
   },
   "outputs": [],
   "source": []
  },
  {
   "cell_type": "code",
   "execution_count": null,
   "metadata": {
    "collapsed": true
   },
   "outputs": [],
   "source": [
    "# 发送邮件"
   ]
  },
  {
   "cell_type": "code",
   "execution_count": 110,
   "metadata": {},
   "outputs": [
    {
     "name": "stderr",
     "output_type": "stream",
     "text": [
      "send: 'ehlo fuminglaorendegongzuoMacBook-Pro.local\\r\\n'\n",
      "reply: b'250-smtp.qq.com\\r\\n'\n",
      "reply: b'250-PIPELINING\\r\\n'\n",
      "reply: b'250-SIZE 73400320\\r\\n'\n",
      "reply: b'250-AUTH LOGIN PLAIN\\r\\n'\n",
      "reply: b'250-AUTH=LOGIN\\r\\n'\n",
      "reply: b'250-MAILCOMPRESS\\r\\n'\n",
      "reply: b'250 8BITMIME\\r\\n'\n",
      "reply: retcode (250); Msg: b'smtp.qq.com\\nPIPELINING\\nSIZE 73400320\\nAUTH LOGIN PLAIN\\nAUTH=LOGIN\\nMAILCOMPRESS\\n8BITMIME'\n",
      "send: 'AUTH PLAIN ADMyODExMTkwMEBxcS5jb20Aa291aXB5bGVzcnpzYmljaA==\\r\\n'\n",
      "reply: b'235 Authentication successful\\r\\n'\n",
      "reply: retcode (235); Msg: b'Authentication successful'\n",
      "send: 'mail FROM:<328111900@qq.com> size=17430\\r\\n'\n",
      "reply: b'250 Ok\\r\\n'\n",
      "reply: retcode (250); Msg: b'Ok'\n",
      "send: 'rcpt TO:<wonderui@qq.com>\\r\\n'\n",
      "reply: b'250 Ok\\r\\n'\n",
      "reply: retcode (250); Msg: b'Ok'\n",
      "send: 'data\\r\\n'\n",
      "reply: b'354 End data with <CR><LF>.<CR><LF>\\r\\n'\n",
      "reply: retcode (354); Msg: b'End data with <CR><LF>.<CR><LF>'\n",
      "data: (354, b'End data with <CR><LF>.<CR><LF>')\n",
      "send: b'Content-Type: text/html; charset=\"utf-8\"\\r\\nMIME-Version: 1.0\\r\\nContent-Transfer-Encoding: base64\\r\\nFrom: Wealth Quant\\r\\nTo: wonderui_qq\\r\\nSubject: =?utf-8?b?5LuK5pel5pWw5o2u?=\\r\\n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\\r\\nIAo8L3RhYmxlPiA=\\r\\n.\\r\\n'\n"
     ]
    },
    {
     "name": "stderr",
     "output_type": "stream",
     "text": [
      "reply: b'250 Ok: queued as \\r\\n'\n",
      "reply: retcode (250); Msg: b'Ok: queued as'\n",
      "data: (250, b'Ok: queued as')\n",
      "send: 'quit\\r\\n'\n",
      "reply: b'221 Bye\\r\\n'\n",
      "reply: retcode (221); Msg: b'Bye'\n"
     ]
    },
    {
     "data": {
      "text/plain": [
       "(221, b'Bye')"
      ]
     },
     "execution_count": 110,
     "metadata": {},
     "output_type": "execute_result"
    }
   ],
   "source": [
    "msg = MIMEText(css_style + test_mail, 'html', 'utf-8')\n",
    "msg['From'] = 'Wealth Quant'\n",
    "msg['To'] = 'wonderui_qq'\n",
    "msg['Subject'] = '今日数据'\n",
    "# 发送邮件\n",
    "server = smtplib.SMTP_SSL(\"smtp.qq.com\", 465)\n",
    "server.set_debuglevel(1)\n",
    "server.login('328111900@qq.com', mail_pwd)\n",
    "server.sendmail('328111900@qq.com', 'wonderui@qq.com', msg.as_string())\n",
    "server.quit()"
   ]
  },
  {
   "cell_type": "code",
   "execution_count": null,
   "metadata": {},
   "outputs": [],
   "source": []
  },
  {
   "cell_type": "code",
   "execution_count": null,
   "metadata": {},
   "outputs": [],
   "source": []
  },
  {
   "cell_type": "code",
   "execution_count": null,
   "metadata": {
    "collapsed": true
   },
   "outputs": [],
   "source": []
  }
 ],
 "metadata": {
  "kernelspec": {
   "display_name": "Python 3",
   "language": "python",
   "name": "python3"
  },
  "language_info": {
   "codemirror_mode": {
    "name": "ipython",
    "version": 3
   },
   "file_extension": ".py",
   "mimetype": "text/x-python",
   "name": "python",
   "nbconvert_exporter": "python",
   "pygments_lexer": "ipython3",
   "version": "3.6.1"
  }
 },
 "nbformat": 4,
 "nbformat_minor": 2
}
