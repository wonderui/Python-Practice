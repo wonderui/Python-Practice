{
 "cells": [
  {
   "cell_type": "code",
   "execution_count": null,
   "metadata": {
    "collapsed": true
   },
   "outputs": [],
   "source": [
    "'''\n",
    "Poker Program\n",
    "\n",
    "hand attributes\n",
    "1. hands card\n",
    "2. rank\n",
    "3. suit\n",
    "    3.1 diamonds（方块）\n",
    "    3.2 clubs（梅花）\n",
    "    3.3 hearts（红桃）\n",
    "    3.4 spades（黑桃）\n",
    "\n",
    "functions\n",
    "1. poker(hands)---->hand(return the best hand)\n",
    "2. hand_rank\n",
    "    2.1 n-kind\n",
    "    2.2 straight\n",
    "    2.3 flush\n",
    "'''"
   ]
  },
  {
   "cell_type": "code",
   "execution_count": null,
   "metadata": {
    "collapsed": true
   },
   "outputs": [],
   "source": []
  }
 ],
 "metadata": {
  "kernelspec": {
   "display_name": "Python 3",
   "language": "python",
   "name": "python3"
  },
  "language_info": {
   "codemirror_mode": {
    "name": "ipython",
    "version": 3
   },
   "file_extension": ".py",
   "mimetype": "text/x-python",
   "name": "python",
   "nbconvert_exporter": "python",
   "pygments_lexer": "ipython3",
   "version": "3.6.1"
  }
 },
 "nbformat": 4,
 "nbformat_minor": 2
}
