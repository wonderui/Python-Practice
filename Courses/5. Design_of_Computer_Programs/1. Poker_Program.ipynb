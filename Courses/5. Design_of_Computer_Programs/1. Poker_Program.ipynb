{
 "cells": [
  {
   "cell_type": "code",
   "execution_count": null,
   "metadata": {
    "collapsed": true
   },
   "outputs": [],
   "source": [
    "'''\n",
    "Poker Program\n",
    "\n",
    "hand attributes\n",
    "1. hands card\n",
    "2. rank\n",
    "    2.1 straight flush\n",
    "    2.2 four of a kind\n",
    "    2.3 full house\n",
    "    2.4 flush\n",
    "    2.5 straight\n",
    "    2.6 three of a kind\n",
    "    2.7 two pair\n",
    "    2.8 one pair\n",
    "    2.9 high card\n",
    "3. suit\n",
    "    3.1 diamonds（方块）\n",
    "    3.2 clubs（梅花）\n",
    "    3.3 hearts（红桃）\n",
    "    3.4 spades（黑桃）\n",
    "\n",
    "functions\n",
    "1. poker(hands)---->hand(return the best hand)\n",
    "2. hand_rank\n",
    "    2.1 n-kind\n",
    "    2.2 straight\n",
    "    2.3 flush\n",
    "'''"
   ]
  },
  {
   "cell_type": "code",
   "execution_count": null,
   "metadata": {
    "collapsed": true
   },
   "outputs": [],
   "source": []
  }
 ],
 "metadata": {
  "kernelspec": {
   "display_name": "Python 3",
   "language": "python",
   "name": "python3"
  },
  "language_info": {
   "codemirror_mode": {
    "name": "ipython",
    "version": 3
   },
   "file_extension": ".py",
   "mimetype": "text/x-python",
   "name": "python",
   "nbconvert_exporter": "python",
   "pygments_lexer": "ipython3",
   "version": "3.6.1"
  }
 },
 "nbformat": 4,
 "nbformat_minor": 2
}
