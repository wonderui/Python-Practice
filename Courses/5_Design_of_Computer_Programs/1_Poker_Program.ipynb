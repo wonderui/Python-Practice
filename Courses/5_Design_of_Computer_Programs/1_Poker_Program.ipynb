{
 "cells": [
  {
   "cell_type": "code",
   "execution_count": null,
   "metadata": {
    "collapsed": true
   },
   "outputs": [],
   "source": [
    "'''\n",
    "Poker Program\n",
    "\n",
    "hand attributes\n",
    "1. hands card\n",
    "2. rank\n",
    "    2.1 straight flush  (8, max_rank)\n",
    "    2.2 four of a kind  (7, 4_kind_rank, 1_kind_rank)\n",
    "    2.3 full house  (6, 3_kind_rank, 2_kind_rank)\n",
    "    2.4 flush  (5, [hand])\n",
    "    2.5 straight  (4, highcard_rank)\n",
    "    2.6 three of a kind  (3, 3_kind_rank, [hand])\n",
    "    2.7 two pair  (2, higher_pair_rank, lower_pair_rank, [hand])\n",
    "    2.8 one pair  (1, pair_rank, [hand])\n",
    "    2.9 high card  (0, hand)\n",
    "3. suit\n",
    "    3.1 diamonds（方块）\n",
    "    3.2 clubs（梅花）\n",
    "    3.3 hearts（红桃）\n",
    "    3.4 spades（黑桃）\n",
    "\n",
    "functions\n",
    "1. poker(hands)---->hand(return the best hand)\n",
    "2. hand_rank\n",
    "    2.1 n-kind\n",
    "    2.2 straight\n",
    "    2.3 flush\n",
    "'''"
   ]
  },
  {
   "cell_type": "code",
   "execution_count": 1,
   "metadata": {
    "collapsed": true
   },
   "outputs": [],
   "source": [
    "# main program\n",
    "\n",
    "def poker(hands):\n",
    "    \"Return the best hand: poker([hand,...]) => hand\"\n",
    "    return max(hands, key=hand_rank)\n",
    "\n",
    "def hand_rank(hand):\n",
    "    ranks = card_ranks(hand)\n",
    "    if straight(ranks) and flush(hand):            # straight flush\n",
    "        return (8, max(ranks))\n",
    "    elif kind(4, ranks):                           # 4 of a kind\n",
    "        return (7, kind(4, ranks), kind(1, ranks))\n",
    "    elif kind(3, ranks) and kind(2, ranks):        # full house\n",
    "        return (6, kind(3, ranks), kind(2, ranks))\n",
    "    elif flush(hand):                              # flush\n",
    "        return (5, ranks)\n",
    "    elif straight(ranks):                          # straight\n",
    "        return (4, max(ranks))\n",
    "    elif kind(3, ranks):                           # 3 of a kind\n",
    "        return (3, kind(3, ranks), ranks)\n",
    "    elif two_pair(ranks):                          # 2 pair\n",
    "        return (2, two_pair(ranks), ranks)\n",
    "    elif kind(2, ranks):                           # kind\n",
    "        return (1, kind(2, ranks), ranks)\n",
    "    else:                                          # high card\n",
    "        return (0, ranks)\n",
    "\n",
    "def card_ranks(hand):\n",
    "    \"Return a list of ranks, sorted whin higher first.\"\n",
    "    ranks = ['--23456789TJQKA'.index(r) for r, s in hand]\n",
    "    ranks.sort(reverse = True)\n",
    "    return ranks\n",
    "\n",
    "def straight(ranks):\n",
    "    \"Return True if the ordered ranks form a 5-card straight\"\n",
    "    return (max(ranks) - min(ranks) == 4) and len(set(ranks)) == 5\n",
    "\n",
    "def flush(hand):\n",
    "    \"Return True if all the cards have the same suit.\"\n",
    "    suits = [s for r, s in hand]\n",
    "    return len(set(suits)) == 1\n",
    "\n",
    "def test():\n",
    "    \"Test cases for the functions in poker program\"\n",
    "    sf = \"6C 7C 8C 9C TC\".split() # Straight Flush\n",
    "    fk = \"9D 9H 9S 9C 7D\".split() # Four of a Kind\n",
    "    fh = \"TD TC TH 7C 7D\".split() # Full House\n",
    "    assert card_ranks(sf) == [10, 9, 8, 7, 6]\n",
    "    assert card_ranks(fk) == [9, 9, 9, 9, 7]\n",
    "    assert card_ranks(fh) == [10, 10, 10, 7, 7]\n",
    "    assert poker([sf, fk, fh]) == sf\n",
    "    assert poker([fk, fh]) == fk\n",
    "    assert poker([fh, fh]) == fh\n",
    "    assert poker([sf]) == sf\n",
    "    assert poker([sf] + 99*[fh]) == sf\n",
    "    assert hand_rank(sf) == (8, 10)\n",
    "    assert hand_rank(fk) == (7, 9, 7)\n",
    "    assert hand_rank(fh) == (6, 10, 7)\n",
    "    return 'tests pass'\n"
   ]
  },
  {
   "cell_type": "code",
   "execution_count": 7,
   "metadata": {},
   "outputs": [
    {
     "name": "stdout",
     "output_type": "stream",
     "text": [
      "['1', '2', '3']\n"
     ]
    }
   ],
   "source": [
    "a = ['1a','2b','3c']\n",
    "b = [f for f, s in a]\n",
    "print(b)"
   ]
  }
 ],
 "metadata": {
  "kernelspec": {
   "display_name": "Python 3",
   "language": "python",
   "name": "python3"
  },
  "language_info": {
   "codemirror_mode": {
    "name": "ipython",
    "version": 3
   },
   "file_extension": ".py",
   "mimetype": "text/x-python",
   "name": "python",
   "nbconvert_exporter": "python",
   "pygments_lexer": "ipython3",
   "version": "3.6.1"
  }
 },
 "nbformat": 4,
 "nbformat_minor": 2
}
