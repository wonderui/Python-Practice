{
 "cells": [
  {
   "cell_type": "markdown",
   "metadata": {},
   "source": [
    "### pandas\n",
    "\n",
    "#### read files\n",
    "1. read_table - return a df\n",
    "2. read_csv - return a df\n",
    "\n",
    "#### merge data\n",
    "1. merge - retrun a df\n",
    "\n",
    "#### get single data\n",
    "1. iloc - return a series\n",
    "2. loc - return a series\n",
    "\n",
    "#### pivot table\n",
    "1. pivot_table - return a df\n",
    "\n",
    "#### group data\n",
    "1. groupby - return a series - by is index"
   ]
  }
 ],
 "metadata": {
  "kernelspec": {
   "display_name": "Python 3",
   "language": "python",
   "name": "python3"
  },
  "language_info": {
   "codemirror_mode": {
    "name": "ipython",
    "version": 3
   },
   "file_extension": ".py",
   "mimetype": "text/x-python",
   "name": "python",
   "nbconvert_exporter": "python",
   "pygments_lexer": "ipython3",
   "version": "3.6.1"
  }
 },
 "nbformat": 4,
 "nbformat_minor": 2
}
