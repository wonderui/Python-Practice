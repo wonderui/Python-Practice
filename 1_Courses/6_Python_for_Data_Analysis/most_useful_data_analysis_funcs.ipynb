{
 "cells": [
  {
   "cell_type": "markdown",
   "metadata": {},
   "source": [
    "### pandas\n",
    "\n",
    "#### read files\n",
    "1. read_table - return a df\n",
    "2. read_csv - return a df\n",
    "\n",
    "#### merge data\n",
    "1. merge - retrun a df\n",
    "\n",
    "#### get single data\n",
    "1. iloc - return a series\n",
    "2. loc - return a series\n",
    "\n",
    "#### pivot table\n",
    "1. pivot_table - return a df\n",
    "![pivot_table](pivot-table-datasheet.png)\n",
    "\n",
    "#### group data\n",
    "1. groupby - return a series or a df - by is the index, and [columns].func() is the value"
   ]
  },
  {
   "cell_type": "code",
   "execution_count": null,
   "metadata": {
    "collapsed": true
   },
   "outputs": [],
   "source": []
  }
 ],
 "metadata": {
  "kernelspec": {
   "display_name": "Python 3",
   "language": "python",
   "name": "python3"
  },
  "language_info": {
   "codemirror_mode": {
    "name": "ipython",
    "version": 3
   },
   "file_extension": ".py",
   "mimetype": "text/x-python",
   "name": "python",
   "nbconvert_exporter": "python",
   "pygments_lexer": "ipython3",
   "version": "3.6.1"
  }
 },
 "nbformat": 4,
 "nbformat_minor": 2
}
