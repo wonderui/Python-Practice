{
 "cells": [
  {
   "cell_type": "code",
   "execution_count": 9,
   "metadata": {},
   "outputs": [],
   "source": [
    "import time\n",
    "import multiprocessing"
   ]
  },
  {
   "cell_type": "code",
   "execution_count": null,
   "metadata": {},
   "outputs": [],
   "source": []
  },
  {
   "cell_type": "code",
   "execution_count": null,
   "metadata": {},
   "outputs": [],
   "source": []
  },
  {
   "cell_type": "code",
   "execution_count": 15,
   "metadata": {},
   "outputs": [],
   "source": [
    "# Your foo function\n",
    "def foo(n):\n",
    "    for i in range(10 * n):\n",
    "        print(\"Tick\")\n",
    "        time.sleep(1)"
   ]
  },
  {
   "cell_type": "code",
   "execution_count": 17,
   "metadata": {},
   "outputs": [
    {
     "name": "stdout",
     "output_type": "stream",
     "text": [
      "Tick\n",
      "Tick\n",
      "Tick\n",
      "Tick\n",
      "Tick\n",
      "Tick\n",
      "Tick\n",
      "Tick\n",
      "Tick\n",
      "Tick\n",
      "foo is running... let's kill it...\n"
     ]
    }
   ],
   "source": [
    "p = multiprocessing.Process(target=foo, name=\"Foo\", args=(10,))\n",
    "p.start()\n",
    "# Wait a maximum of 10 seconds for foo\n",
    "# Usage: join([timeout in seconds])\n",
    "p.join(10)\n",
    "\n",
    "# If thread is active\n",
    "if p.is_alive():\n",
    "    print(\"foo is running... let's kill it...\")\n",
    "\n",
    "    # Terminate foo\n",
    "    p.terminate()\n",
    "    p.join()"
   ]
  },
  {
   "cell_type": "code",
   "execution_count": null,
   "metadata": {},
   "outputs": [],
   "source": []
  }
 ],
 "metadata": {
  "kernelspec": {
   "display_name": "Python 3",
   "language": "python",
   "name": "python3"
  },
  "language_info": {
   "codemirror_mode": {
    "name": "ipython",
    "version": 3
   },
   "file_extension": ".py",
   "mimetype": "text/x-python",
   "name": "python",
   "nbconvert_exporter": "python",
   "pygments_lexer": "ipython3",
   "version": "3.6.1"
  }
 },
 "nbformat": 4,
 "nbformat_minor": 2
}
