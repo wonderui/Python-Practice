{
 "cells": [
  {
   "cell_type": "code",
   "execution_count": 7,
   "metadata": {},
   "outputs": [
    {
     "data": {
      "text/plain": [
       "'tests pass'"
      ]
     },
     "execution_count": 7,
     "metadata": {},
     "output_type": "execute_result"
    }
   ],
   "source": [
    "ta_data = [['Peter', 'USA', 'CS262'],\n",
    "           ['Andy', 'USA', 'CS212'],\n",
    "           ['Sarah', 'England', 'CS101'],\n",
    "           ['Gundega', 'Latvia', 'CS373'],\n",
    "           ['Job', 'USA', 'CS387'],\n",
    "           ['Sean', 'USA', 'CS253']]\n",
    "\n",
    "ta_300 = [name + ' is the TA for ' + course \n",
    "          for name, country, course in ta_data \n",
    "          if course.find('CS3') != -1]\n",
    "\n",
    "def test():\n",
    "    assert ta_300 == ['Gundega is the TA for CS373', 'Job is the TA for CS387']\n",
    "    return 'tests pass'\n",
    "\n",
    "test()"
   ]
  }
 ],
 "metadata": {
  "kernelspec": {
   "display_name": "Python 3",
   "language": "python",
   "name": "python3"
  },
  "language_info": {
   "codemirror_mode": {
    "name": "ipython",
    "version": 3
   },
   "file_extension": ".py",
   "mimetype": "text/x-python",
   "name": "python",
   "nbconvert_exporter": "python",
   "pygments_lexer": "ipython3",
   "version": "3.6.1"
  }
 },
 "nbformat": 4,
 "nbformat_minor": 2
}
